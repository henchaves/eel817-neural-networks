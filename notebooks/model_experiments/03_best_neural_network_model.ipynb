{
 "cells": [
  {
   "cell_type": "markdown",
   "id": "36b9d6dc-0379-41de-ae8b-6bad157549f8",
   "metadata": {},
   "source": [
    "#### Import required libs"
   ]
  },
  {
   "cell_type": "code",
   "execution_count": 1,
   "id": "09d6aa3b-502d-4701-9b06-6f196502fc2e",
   "metadata": {},
   "outputs": [],
   "source": [
    "import sys\n",
    "sys.path.append('/home/jupyter/app')\n",
    "\n",
    "import pickle\n",
    "\n",
    "import numpy as np\n",
    "\n",
    "from sklearn.preprocessing import StandardScaler\n",
    "from sklearn.metrics import mean_absolute_error\n",
    "\n",
    "import tensorflow as tf\n",
    "from tensorflow.keras.models import Sequential\n",
    "from tensorflow.keras.layers import Dense, Dropout\n",
    "\n",
    "from src.io_utils import load_dataframe"
   ]
  },
  {
   "cell_type": "markdown",
   "id": "13be78c5-a3a7-4f16-a147-4b3620147d27",
   "metadata": {},
   "source": [
    "#### Define constants"
   ]
  },
  {
   "cell_type": "code",
   "execution_count": 2,
   "id": "10085a57-8cbb-4fb2-893b-17de972ebac7",
   "metadata": {},
   "outputs": [],
   "source": [
    "GS_DIR_FEATURES = \"gs://pcqm4mv2/data/features\""
   ]
  },
  {
   "cell_type": "markdown",
   "id": "f67df4c5-5b5b-466c-bd5b-24bbe6be504e",
   "metadata": {},
   "source": [
    "#### Load datasets as pandas DataFrame"
   ]
  },
  {
   "cell_type": "code",
   "execution_count": 3,
   "id": "d8ab3a42-9492-4760-95dc-cae6df23b4b5",
   "metadata": {},
   "outputs": [
    {
     "name": "stderr",
     "output_type": "stream",
     "text": [
      "/opt/conda/lib/python3.7/site-packages/numpy/lib/arraysetops.py:580: FutureWarning: elementwise comparison failed; returning scalar instead, but in the future will perform elementwise comparison\n",
      "  mask |= (ar1 == a)\n"
     ]
    },
    {
     "name": "stdout",
     "output_type": "stream",
     "text": [
      "df_train shape: (3378606, 29)\n"
     ]
    },
    {
     "data": {
      "text/html": [
       "<div>\n",
       "<style scoped>\n",
       "    .dataframe tbody tr th:only-of-type {\n",
       "        vertical-align: middle;\n",
       "    }\n",
       "\n",
       "    .dataframe tbody tr th {\n",
       "        vertical-align: top;\n",
       "    }\n",
       "\n",
       "    .dataframe thead th {\n",
       "        text-align: right;\n",
       "    }\n",
       "</style>\n",
       "<table border=\"1\" class=\"dataframe\">\n",
       "  <thead>\n",
       "    <tr style=\"text-align: right;\">\n",
       "      <th></th>\n",
       "      <th>smiles</th>\n",
       "      <th>homolumogap</th>\n",
       "      <th>number_of_atoms</th>\n",
       "      <th>number_of_heavy_atoms</th>\n",
       "      <th>number_of_bonds</th>\n",
       "      <th>number_of_heavy_bonds</th>\n",
       "      <th>number_of_conformations</th>\n",
       "      <th>exact_mol_weight</th>\n",
       "      <th>average_mol_weight</th>\n",
       "      <th>heavy_mol_weight</th>\n",
       "      <th>...</th>\n",
       "      <th>number_of_B_atoms</th>\n",
       "      <th>number_of_C_atoms</th>\n",
       "      <th>number_of_N_atoms</th>\n",
       "      <th>number_of_O_atoms</th>\n",
       "      <th>number_of_F_atoms</th>\n",
       "      <th>number_of_Si_atoms</th>\n",
       "      <th>number_of_P_atoms</th>\n",
       "      <th>number_of_S_atoms</th>\n",
       "      <th>number_of_Cl_atoms</th>\n",
       "      <th>number_of_Br_atoms</th>\n",
       "    </tr>\n",
       "    <tr>\n",
       "      <th>idx</th>\n",
       "      <th></th>\n",
       "      <th></th>\n",
       "      <th></th>\n",
       "      <th></th>\n",
       "      <th></th>\n",
       "      <th></th>\n",
       "      <th></th>\n",
       "      <th></th>\n",
       "      <th></th>\n",
       "      <th></th>\n",
       "      <th></th>\n",
       "      <th></th>\n",
       "      <th></th>\n",
       "      <th></th>\n",
       "      <th></th>\n",
       "      <th></th>\n",
       "      <th></th>\n",
       "      <th></th>\n",
       "      <th></th>\n",
       "      <th></th>\n",
       "      <th></th>\n",
       "    </tr>\n",
       "  </thead>\n",
       "  <tbody>\n",
       "    <tr>\n",
       "      <th>0</th>\n",
       "      <td>O=C1[N]c2ccncc2[CH][C@@H]1c1ccc(cc1)C</td>\n",
       "      <td>3.047675</td>\n",
       "      <td>30</td>\n",
       "      <td>18</td>\n",
       "      <td>32</td>\n",
       "      <td>20</td>\n",
       "      <td>0</td>\n",
       "      <td>236.094963</td>\n",
       "      <td>236.274</td>\n",
       "      <td>224.178</td>\n",
       "      <td>...</td>\n",
       "      <td>0</td>\n",
       "      <td>15</td>\n",
       "      <td>2</td>\n",
       "      <td>1</td>\n",
       "      <td>0</td>\n",
       "      <td>0</td>\n",
       "      <td>0</td>\n",
       "      <td>0</td>\n",
       "      <td>0</td>\n",
       "      <td>0</td>\n",
       "    </tr>\n",
       "    <tr>\n",
       "      <th>1</th>\n",
       "      <td>COc1cc(OC)ccc1/C=C/N(C(=O)C)C</td>\n",
       "      <td>4.410966</td>\n",
       "      <td>34</td>\n",
       "      <td>17</td>\n",
       "      <td>34</td>\n",
       "      <td>17</td>\n",
       "      <td>0</td>\n",
       "      <td>235.120843</td>\n",
       "      <td>235.283</td>\n",
       "      <td>218.147</td>\n",
       "      <td>...</td>\n",
       "      <td>0</td>\n",
       "      <td>13</td>\n",
       "      <td>1</td>\n",
       "      <td>3</td>\n",
       "      <td>0</td>\n",
       "      <td>0</td>\n",
       "      <td>0</td>\n",
       "      <td>0</td>\n",
       "      <td>0</td>\n",
       "      <td>0</td>\n",
       "    </tr>\n",
       "    <tr>\n",
       "      <th>2</th>\n",
       "      <td>C=CCN(C(=O)C)/C=C/c1ccccc1C</td>\n",
       "      <td>4.639541</td>\n",
       "      <td>33</td>\n",
       "      <td>16</td>\n",
       "      <td>33</td>\n",
       "      <td>16</td>\n",
       "      <td>0</td>\n",
       "      <td>215.131014</td>\n",
       "      <td>215.296</td>\n",
       "      <td>198.160</td>\n",
       "      <td>...</td>\n",
       "      <td>0</td>\n",
       "      <td>14</td>\n",
       "      <td>1</td>\n",
       "      <td>1</td>\n",
       "      <td>0</td>\n",
       "      <td>0</td>\n",
       "      <td>0</td>\n",
       "      <td>0</td>\n",
       "      <td>0</td>\n",
       "      <td>0</td>\n",
       "    </tr>\n",
       "    <tr>\n",
       "      <th>3</th>\n",
       "      <td>C=CCN(C(=O)C)/C=C/c1ccccc1F</td>\n",
       "      <td>4.492600</td>\n",
       "      <td>30</td>\n",
       "      <td>16</td>\n",
       "      <td>30</td>\n",
       "      <td>16</td>\n",
       "      <td>0</td>\n",
       "      <td>219.105942</td>\n",
       "      <td>219.259</td>\n",
       "      <td>205.147</td>\n",
       "      <td>...</td>\n",
       "      <td>0</td>\n",
       "      <td>13</td>\n",
       "      <td>1</td>\n",
       "      <td>1</td>\n",
       "      <td>1</td>\n",
       "      <td>0</td>\n",
       "      <td>0</td>\n",
       "      <td>0</td>\n",
       "      <td>0</td>\n",
       "      <td>0</td>\n",
       "    </tr>\n",
       "    <tr>\n",
       "      <th>4</th>\n",
       "      <td>C=CCN(C(=O)C)/C=C/c1ccccc1Cl</td>\n",
       "      <td>4.612330</td>\n",
       "      <td>30</td>\n",
       "      <td>16</td>\n",
       "      <td>30</td>\n",
       "      <td>16</td>\n",
       "      <td>0</td>\n",
       "      <td>235.076392</td>\n",
       "      <td>235.714</td>\n",
       "      <td>221.602</td>\n",
       "      <td>...</td>\n",
       "      <td>0</td>\n",
       "      <td>13</td>\n",
       "      <td>1</td>\n",
       "      <td>1</td>\n",
       "      <td>0</td>\n",
       "      <td>0</td>\n",
       "      <td>0</td>\n",
       "      <td>0</td>\n",
       "      <td>1</td>\n",
       "      <td>0</td>\n",
       "    </tr>\n",
       "  </tbody>\n",
       "</table>\n",
       "<p>5 rows × 29 columns</p>\n",
       "</div>"
      ],
      "text/plain": [
       "                                    smiles  homolumogap  number_of_atoms  \\\n",
       "idx                                                                        \n",
       "0    O=C1[N]c2ccncc2[CH][C@@H]1c1ccc(cc1)C     3.047675               30   \n",
       "1            COc1cc(OC)ccc1/C=C/N(C(=O)C)C     4.410966               34   \n",
       "2              C=CCN(C(=O)C)/C=C/c1ccccc1C     4.639541               33   \n",
       "3              C=CCN(C(=O)C)/C=C/c1ccccc1F     4.492600               30   \n",
       "4             C=CCN(C(=O)C)/C=C/c1ccccc1Cl     4.612330               30   \n",
       "\n",
       "     number_of_heavy_atoms  number_of_bonds  number_of_heavy_bonds  \\\n",
       "idx                                                                  \n",
       "0                       18               32                     20   \n",
       "1                       17               34                     17   \n",
       "2                       16               33                     16   \n",
       "3                       16               30                     16   \n",
       "4                       16               30                     16   \n",
       "\n",
       "     number_of_conformations  exact_mol_weight  average_mol_weight  \\\n",
       "idx                                                                  \n",
       "0                          0        236.094963             236.274   \n",
       "1                          0        235.120843             235.283   \n",
       "2                          0        215.131014             215.296   \n",
       "3                          0        219.105942             219.259   \n",
       "4                          0        235.076392             235.714   \n",
       "\n",
       "     heavy_mol_weight  ...  number_of_B_atoms  number_of_C_atoms  \\\n",
       "idx                    ...                                         \n",
       "0             224.178  ...                  0                 15   \n",
       "1             218.147  ...                  0                 13   \n",
       "2             198.160  ...                  0                 14   \n",
       "3             205.147  ...                  0                 13   \n",
       "4             221.602  ...                  0                 13   \n",
       "\n",
       "     number_of_N_atoms  number_of_O_atoms  number_of_F_atoms  \\\n",
       "idx                                                            \n",
       "0                    2                  1                  0   \n",
       "1                    1                  3                  0   \n",
       "2                    1                  1                  0   \n",
       "3                    1                  1                  1   \n",
       "4                    1                  1                  0   \n",
       "\n",
       "     number_of_Si_atoms  number_of_P_atoms  number_of_S_atoms  \\\n",
       "idx                                                             \n",
       "0                     0                  0                  0   \n",
       "1                     0                  0                  0   \n",
       "2                     0                  0                  0   \n",
       "3                     0                  0                  0   \n",
       "4                     0                  0                  0   \n",
       "\n",
       "     number_of_Cl_atoms  number_of_Br_atoms  \n",
       "idx                                          \n",
       "0                     0                   0  \n",
       "1                     0                   0  \n",
       "2                     0                   0  \n",
       "3                     0                   0  \n",
       "4                     1                   0  \n",
       "\n",
       "[5 rows x 29 columns]"
      ]
     },
     "execution_count": 3,
     "metadata": {},
     "output_type": "execute_result"
    }
   ],
   "source": [
    "df_train = load_dataframe(\"train.csv\", GS_DIR_FEATURES)\n",
    "\n",
    "print(\"df_train shape:\", df_train.shape)\n",
    "df_train.head()"
   ]
  },
  {
   "cell_type": "code",
   "execution_count": 4,
   "id": "1361e536-bf84-4db3-b673-cbe1804a96c2",
   "metadata": {},
   "outputs": [
    {
     "name": "stdout",
     "output_type": "stream",
     "text": [
      "df_val shape: (73545, 29)\n"
     ]
    },
    {
     "data": {
      "text/html": [
       "<div>\n",
       "<style scoped>\n",
       "    .dataframe tbody tr th:only-of-type {\n",
       "        vertical-align: middle;\n",
       "    }\n",
       "\n",
       "    .dataframe tbody tr th {\n",
       "        vertical-align: top;\n",
       "    }\n",
       "\n",
       "    .dataframe thead th {\n",
       "        text-align: right;\n",
       "    }\n",
       "</style>\n",
       "<table border=\"1\" class=\"dataframe\">\n",
       "  <thead>\n",
       "    <tr style=\"text-align: right;\">\n",
       "      <th></th>\n",
       "      <th>smiles</th>\n",
       "      <th>homolumogap</th>\n",
       "      <th>number_of_atoms</th>\n",
       "      <th>number_of_heavy_atoms</th>\n",
       "      <th>number_of_bonds</th>\n",
       "      <th>number_of_heavy_bonds</th>\n",
       "      <th>number_of_conformations</th>\n",
       "      <th>exact_mol_weight</th>\n",
       "      <th>average_mol_weight</th>\n",
       "      <th>heavy_mol_weight</th>\n",
       "      <th>...</th>\n",
       "      <th>number_of_B_atoms</th>\n",
       "      <th>number_of_C_atoms</th>\n",
       "      <th>number_of_N_atoms</th>\n",
       "      <th>number_of_O_atoms</th>\n",
       "      <th>number_of_F_atoms</th>\n",
       "      <th>number_of_Si_atoms</th>\n",
       "      <th>number_of_P_atoms</th>\n",
       "      <th>number_of_S_atoms</th>\n",
       "      <th>number_of_Cl_atoms</th>\n",
       "      <th>number_of_Br_atoms</th>\n",
       "    </tr>\n",
       "    <tr>\n",
       "      <th>idx</th>\n",
       "      <th></th>\n",
       "      <th></th>\n",
       "      <th></th>\n",
       "      <th></th>\n",
       "      <th></th>\n",
       "      <th></th>\n",
       "      <th></th>\n",
       "      <th></th>\n",
       "      <th></th>\n",
       "      <th></th>\n",
       "      <th></th>\n",
       "      <th></th>\n",
       "      <th></th>\n",
       "      <th></th>\n",
       "      <th></th>\n",
       "      <th></th>\n",
       "      <th></th>\n",
       "      <th></th>\n",
       "      <th></th>\n",
       "      <th></th>\n",
       "      <th></th>\n",
       "    </tr>\n",
       "  </thead>\n",
       "  <tbody>\n",
       "    <tr>\n",
       "      <th>3378606</th>\n",
       "      <td>COc1ccccc1N[C@H](/C(=N\\C(=N)O)/O)C</td>\n",
       "      <td>4.587840</td>\n",
       "      <td>32</td>\n",
       "      <td>17</td>\n",
       "      <td>32</td>\n",
       "      <td>17</td>\n",
       "      <td>0</td>\n",
       "      <td>237.111341</td>\n",
       "      <td>237.259</td>\n",
       "      <td>222.139</td>\n",
       "      <td>...</td>\n",
       "      <td>0</td>\n",
       "      <td>11</td>\n",
       "      <td>3</td>\n",
       "      <td>3</td>\n",
       "      <td>0</td>\n",
       "      <td>0</td>\n",
       "      <td>0</td>\n",
       "      <td>0</td>\n",
       "      <td>0</td>\n",
       "      <td>0</td>\n",
       "    </tr>\n",
       "    <tr>\n",
       "      <th>3378607</th>\n",
       "      <td>COc1ccccc1N[C@H](/C(=N\\C(=N)O)/O)C</td>\n",
       "      <td>4.971520</td>\n",
       "      <td>32</td>\n",
       "      <td>17</td>\n",
       "      <td>32</td>\n",
       "      <td>17</td>\n",
       "      <td>0</td>\n",
       "      <td>237.111341</td>\n",
       "      <td>237.259</td>\n",
       "      <td>222.139</td>\n",
       "      <td>...</td>\n",
       "      <td>0</td>\n",
       "      <td>11</td>\n",
       "      <td>3</td>\n",
       "      <td>3</td>\n",
       "      <td>0</td>\n",
       "      <td>0</td>\n",
       "      <td>0</td>\n",
       "      <td>0</td>\n",
       "      <td>0</td>\n",
       "      <td>0</td>\n",
       "    </tr>\n",
       "    <tr>\n",
       "      <th>3378613</th>\n",
       "      <td>CC(/N=C(\\N/N=C/1\\C[C@H]2[C@@H]1CC=C2)/S)C</td>\n",
       "      <td>5.496700</td>\n",
       "      <td>32</td>\n",
       "      <td>15</td>\n",
       "      <td>33</td>\n",
       "      <td>16</td>\n",
       "      <td>0</td>\n",
       "      <td>223.114319</td>\n",
       "      <td>223.345</td>\n",
       "      <td>206.209</td>\n",
       "      <td>...</td>\n",
       "      <td>0</td>\n",
       "      <td>11</td>\n",
       "      <td>3</td>\n",
       "      <td>0</td>\n",
       "      <td>0</td>\n",
       "      <td>0</td>\n",
       "      <td>0</td>\n",
       "      <td>1</td>\n",
       "      <td>0</td>\n",
       "      <td>0</td>\n",
       "    </tr>\n",
       "    <tr>\n",
       "      <th>3378614</th>\n",
       "      <td>CC(/N=C(\\N/N=C/1\\C[C@H]2[C@@H]1CC=C2)/S)C</td>\n",
       "      <td>5.485815</td>\n",
       "      <td>32</td>\n",
       "      <td>15</td>\n",
       "      <td>33</td>\n",
       "      <td>16</td>\n",
       "      <td>0</td>\n",
       "      <td>223.114319</td>\n",
       "      <td>223.345</td>\n",
       "      <td>206.209</td>\n",
       "      <td>...</td>\n",
       "      <td>0</td>\n",
       "      <td>11</td>\n",
       "      <td>3</td>\n",
       "      <td>0</td>\n",
       "      <td>0</td>\n",
       "      <td>0</td>\n",
       "      <td>0</td>\n",
       "      <td>1</td>\n",
       "      <td>0</td>\n",
       "      <td>0</td>\n",
       "    </tr>\n",
       "    <tr>\n",
       "      <th>3378624</th>\n",
       "      <td>C/N=C(\\c1cc2c(s1)ccc(c2)F)/O</td>\n",
       "      <td>4.748387</td>\n",
       "      <td>22</td>\n",
       "      <td>14</td>\n",
       "      <td>23</td>\n",
       "      <td>15</td>\n",
       "      <td>0</td>\n",
       "      <td>209.031063</td>\n",
       "      <td>209.245</td>\n",
       "      <td>201.181</td>\n",
       "      <td>...</td>\n",
       "      <td>0</td>\n",
       "      <td>10</td>\n",
       "      <td>1</td>\n",
       "      <td>1</td>\n",
       "      <td>1</td>\n",
       "      <td>0</td>\n",
       "      <td>0</td>\n",
       "      <td>1</td>\n",
       "      <td>0</td>\n",
       "      <td>0</td>\n",
       "    </tr>\n",
       "  </tbody>\n",
       "</table>\n",
       "<p>5 rows × 29 columns</p>\n",
       "</div>"
      ],
      "text/plain": [
       "                                            smiles  homolumogap  \\\n",
       "idx                                                               \n",
       "3378606         COc1ccccc1N[C@H](/C(=N\\C(=N)O)/O)C     4.587840   \n",
       "3378607         COc1ccccc1N[C@H](/C(=N\\C(=N)O)/O)C     4.971520   \n",
       "3378613  CC(/N=C(\\N/N=C/1\\C[C@H]2[C@@H]1CC=C2)/S)C     5.496700   \n",
       "3378614  CC(/N=C(\\N/N=C/1\\C[C@H]2[C@@H]1CC=C2)/S)C     5.485815   \n",
       "3378624               C/N=C(\\c1cc2c(s1)ccc(c2)F)/O     4.748387   \n",
       "\n",
       "         number_of_atoms  number_of_heavy_atoms  number_of_bonds  \\\n",
       "idx                                                                \n",
       "3378606               32                     17               32   \n",
       "3378607               32                     17               32   \n",
       "3378613               32                     15               33   \n",
       "3378614               32                     15               33   \n",
       "3378624               22                     14               23   \n",
       "\n",
       "         number_of_heavy_bonds  number_of_conformations  exact_mol_weight  \\\n",
       "idx                                                                         \n",
       "3378606                     17                        0        237.111341   \n",
       "3378607                     17                        0        237.111341   \n",
       "3378613                     16                        0        223.114319   \n",
       "3378614                     16                        0        223.114319   \n",
       "3378624                     15                        0        209.031063   \n",
       "\n",
       "         average_mol_weight  heavy_mol_weight  ...  number_of_B_atoms  \\\n",
       "idx                                            ...                      \n",
       "3378606             237.259           222.139  ...                  0   \n",
       "3378607             237.259           222.139  ...                  0   \n",
       "3378613             223.345           206.209  ...                  0   \n",
       "3378614             223.345           206.209  ...                  0   \n",
       "3378624             209.245           201.181  ...                  0   \n",
       "\n",
       "         number_of_C_atoms  number_of_N_atoms  number_of_O_atoms  \\\n",
       "idx                                                                \n",
       "3378606                 11                  3                  3   \n",
       "3378607                 11                  3                  3   \n",
       "3378613                 11                  3                  0   \n",
       "3378614                 11                  3                  0   \n",
       "3378624                 10                  1                  1   \n",
       "\n",
       "         number_of_F_atoms  number_of_Si_atoms  number_of_P_atoms  \\\n",
       "idx                                                                 \n",
       "3378606                  0                   0                  0   \n",
       "3378607                  0                   0                  0   \n",
       "3378613                  0                   0                  0   \n",
       "3378614                  0                   0                  0   \n",
       "3378624                  1                   0                  0   \n",
       "\n",
       "         number_of_S_atoms  number_of_Cl_atoms  number_of_Br_atoms  \n",
       "idx                                                                 \n",
       "3378606                  0                   0                   0  \n",
       "3378607                  0                   0                   0  \n",
       "3378613                  1                   0                   0  \n",
       "3378614                  1                   0                   0  \n",
       "3378624                  1                   0                   0  \n",
       "\n",
       "[5 rows x 29 columns]"
      ]
     },
     "execution_count": 4,
     "metadata": {},
     "output_type": "execute_result"
    }
   ],
   "source": [
    "df_val = load_dataframe(\"valid.csv\", GS_DIR_FEATURES)\n",
    "\n",
    "print(\"df_val shape:\", df_val.shape)\n",
    "df_val.head()"
   ]
  },
  {
   "cell_type": "markdown",
   "id": "e15d210a-655e-461d-b762-ae13bf7b832f",
   "metadata": {},
   "source": [
    "#### Replace NaN with 0"
   ]
  },
  {
   "cell_type": "code",
   "execution_count": 5,
   "id": "30bdaec2-736b-4300-bfb2-900b48c70b77",
   "metadata": {},
   "outputs": [],
   "source": [
    "df_train = df_train.fillna(0)\n",
    "df_val = df_val.fillna(0)"
   ]
  },
  {
   "cell_type": "code",
   "execution_count": 6,
   "id": "24839df5-5255-451b-85b2-b3d7cf947f00",
   "metadata": {},
   "outputs": [
    {
     "name": "stdout",
     "output_type": "stream",
     "text": [
      "Number of NaN in df_train: 0\n",
      "Number of NaN in df_valn: 0\n"
     ]
    }
   ],
   "source": [
    "print(\"Number of NaN in df_train:\", df_train.isna().sum().sum())\n",
    "print(\"Number of NaN in df_valn:\", df_val.isna().sum().sum())"
   ]
  },
  {
   "cell_type": "markdown",
   "id": "e7341e7c-e4df-45bc-a0e2-a228f0d8e020",
   "metadata": {},
   "source": [
    "#### Create X and y objects to train"
   ]
  },
  {
   "cell_type": "code",
   "execution_count": 7,
   "id": "091c1c25-5937-4944-a34e-b21035f5b241",
   "metadata": {},
   "outputs": [
    {
     "name": "stdout",
     "output_type": "stream",
     "text": [
      "X_train shape: (3378606, 27)\n",
      "[[30. 18. 32. ...  0.  0.  0.]\n",
      " [34. 17. 34. ...  0.  0.  0.]\n",
      " [33. 16. 33. ...  0.  0.  0.]\n",
      " ...\n",
      " [34. 17. 34. ...  0.  0.  0.]\n",
      " [34. 17. 34. ...  0.  0.  0.]\n",
      " [35. 17. 36. ...  0.  0.  0.]]\n",
      "y_train shape: (3378606, 1)\n",
      "[[3.04767513]\n",
      " [4.41096552]\n",
      " [4.63954115]\n",
      " ...\n",
      " [5.06403876]\n",
      " [5.33615261]\n",
      " [5.4205079 ]]\n"
     ]
    }
   ],
   "source": [
    "X_train = df_train.drop([\"smiles\", \"homolumogap\"], axis=1).to_numpy()\n",
    "y_train = df_train[[\"homolumogap\"]].to_numpy()\n",
    "\n",
    "print(\"X_train shape:\", X_train.shape)\n",
    "print(X_train)\n",
    "\n",
    "print(\"y_train shape:\", y_train.shape)\n",
    "print(y_train)"
   ]
  },
  {
   "cell_type": "code",
   "execution_count": 8,
   "id": "17a30c1b-10c9-4bc6-9d5c-463c816b4f61",
   "metadata": {},
   "outputs": [
    {
     "name": "stdout",
     "output_type": "stream",
     "text": [
      "X_val shape: (73545, 27)\n",
      "[[32. 17. 32. ...  0.  0.  0.]\n",
      " [32. 17. 32. ...  0.  0.  0.]\n",
      " [32. 15. 33. ...  1.  0.  0.]\n",
      " ...\n",
      " [23. 13. 23. ...  0.  0.  0.]\n",
      " [ 8.  4.  7. ...  0.  2.  0.]\n",
      " [57. 34. 59. ...  0.  0.  0.]]\n",
      "y_val shape: (73545, 1)\n",
      "[[4.58783952]\n",
      " [4.97152005]\n",
      " [5.49669978]\n",
      " ...\n",
      " [4.95519322]\n",
      " [8.17974235]\n",
      " [3.3143467 ]]\n"
     ]
    }
   ],
   "source": [
    "X_val = df_val.drop([\"smiles\", \"homolumogap\"], axis=1).to_numpy()\n",
    "y_val = df_val[[\"homolumogap\"]].to_numpy()\n",
    "\n",
    "print(\"X_val shape:\", X_val.shape)\n",
    "print(X_val)\n",
    "\n",
    "print(\"y_val shape:\", y_val.shape)\n",
    "print(y_val)"
   ]
  },
  {
   "cell_type": "markdown",
   "id": "327035bd-34cc-4d06-b9c6-2aee19b3f0f8",
   "metadata": {},
   "source": [
    "#### Scale data with StandardScaler"
   ]
  },
  {
   "cell_type": "code",
   "execution_count": 9,
   "id": "313df5e0-31ee-4397-8feb-72cee7197978",
   "metadata": {},
   "outputs": [],
   "source": [
    "X_scaler = StandardScaler()\n",
    "y_scaler = StandardScaler()"
   ]
  },
  {
   "cell_type": "code",
   "execution_count": 10,
   "id": "c243f574-ebd2-460e-b2d2-93eac157ce15",
   "metadata": {},
   "outputs": [],
   "source": [
    "X_train = X_scaler.fit_transform(X_train)\n",
    "y_train = y_scaler.fit_transform(y_train)\n",
    "\n",
    "X_val = X_scaler.transform(X_val)\n",
    "y_val = y_scaler.transform(y_val)"
   ]
  },
  {
   "cell_type": "markdown",
   "id": "bf78094e-6d5f-4fc2-83dc-9340af15b330",
   "metadata": {},
   "source": [
    "#### Save scalers locally and to GCS"
   ]
  },
  {
   "cell_type": "code",
   "execution_count": 11,
   "id": "9f2a8936-104c-4a5b-bbc7-f5374770ac0d",
   "metadata": {},
   "outputs": [
    {
     "name": "stdout",
     "output_type": "stream",
     "text": [
      "Copying file://../../artifacts/sc_x_features.pkl [Content-Type=application/octet-stream]...\n",
      "/ [1 files][  1.2 KiB/  1.2 KiB]                                                \n",
      "Operation completed over 1 objects/1.2 KiB.                                      \n"
     ]
    }
   ],
   "source": [
    "with open(\"../../artifacts/sc_x_features.pkl\", \"wb\") as f:\n",
    "    pickle.dump(X_scaler, f)\n",
    "    \n",
    "!gsutil cp ../../artifacts/sc_x_features.pkl gs://pcqm4mv2/artifacts/sc_x_features.pkl"
   ]
  },
  {
   "cell_type": "code",
   "execution_count": 12,
   "id": "adf94d61-ddcd-461c-b5a7-cf23e89de433",
   "metadata": {},
   "outputs": [
    {
     "name": "stdout",
     "output_type": "stream",
     "text": [
      "Copying file://../../artifacts/sc_y.pkl [Content-Type=application/octet-stream]...\n",
      "/ [1 files][  559.0 B/  559.0 B]                                                \n",
      "Operation completed over 1 objects/559.0 B.                                      \n"
     ]
    }
   ],
   "source": [
    "with open(\"../../artifacts/sc_y.pkl\", \"wb\") as f:\n",
    "    pickle.dump(y_scaler, f)\n",
    "\n",
    "!gsutil cp ../../artifacts/sc_y.pkl gs://pcqm4mv2/artifacts/sc_y.pkl    "
   ]
  },
  {
   "cell_type": "markdown",
   "id": "3cb924ab-d5ec-487e-b846-79f866854930",
   "metadata": {},
   "source": [
    "#### Train Model"
   ]
  },
  {
   "cell_type": "markdown",
   "id": "c788b93e-4b35-46d8-99a3-e08d8e913204",
   "metadata": {},
   "source": [
    "##### Number of features to use in input shape"
   ]
  },
  {
   "cell_type": "code",
   "execution_count": 13,
   "id": "597d52c5-8c18-4f70-880e-29b5ea64bd0a",
   "metadata": {},
   "outputs": [
    {
     "data": {
      "text/plain": [
       "27"
      ]
     },
     "execution_count": 13,
     "metadata": {},
     "output_type": "execute_result"
    }
   ],
   "source": [
    "N_FEATURES = X_train.shape[1]\n",
    "N_FEATURES"
   ]
  },
  {
   "cell_type": "markdown",
   "id": "8d98a5d7-bdf3-49e7-a689-4b573f27d006",
   "metadata": {},
   "source": [
    "##### Function to create the best model"
   ]
  },
  {
   "cell_type": "code",
   "execution_count": 14,
   "id": "1d4a2e8b-a355-48cc-812f-645fb4f305ec",
   "metadata": {},
   "outputs": [],
   "source": [
    "def create_model(\n",
    "    n_hidden_layers=4, \n",
    "    n_neurons=128, \n",
    "    dropout_rate=0.1,\n",
    "    regularizer=None,\n",
    "    input_shape=(N_FEATURES, )\n",
    "):\n",
    "    model = Sequential()\n",
    "    model.add(Dense(n_neurons, activation=\"relu\", input_shape=input_shape, kernel_regularizer=regularizer))\n",
    "    \n",
    "    for _ in range(n_hidden_layers-1):\n",
    "        model.add(Dropout(dropout_rate))\n",
    "        model.add(Dense(n_neurons, activation=\"relu\", kernel_regularizer=regularizer))\n",
    "    \n",
    "\n",
    "    model.add(Dropout(dropout_rate))\n",
    "    model.add(Dense(1, activation=\"linear\"))\n",
    "    model.compile(optimizer=\"adam\", loss=\"mae\")\n",
    "\n",
    "    return model"
   ]
  },
  {
   "cell_type": "code",
   "execution_count": 20,
   "id": "7cd78c14-bfbe-46b2-beb7-533bbc896648",
   "metadata": {},
   "outputs": [],
   "source": [
    "regressor = create_model()"
   ]
  },
  {
   "cell_type": "markdown",
   "id": "659fdcb3-ef6b-44a0-864e-cf51bf53992c",
   "metadata": {},
   "source": [
    "##### Start training"
   ]
  },
  {
   "cell_type": "code",
   "execution_count": null,
   "id": "0fe97713-57f9-48c5-ae21-d04325721184",
   "metadata": {
    "tags": []
   },
   "outputs": [
    {
     "name": "stdout",
     "output_type": "stream",
     "text": [
      "Epoch 1/100\n",
      "13198/13198 [==============================] - 35s 3ms/step - loss: 0.3810 - val_loss: 0.3910\n",
      "Epoch 2/100\n",
      "13198/13198 [==============================] - 33s 3ms/step - loss: 0.3505 - val_loss: 0.3776\n",
      "Epoch 3/100\n",
      "13198/13198 [==============================] - 34s 3ms/step - loss: 0.3429 - val_loss: 0.3778\n",
      "Epoch 4/100\n",
      "13198/13198 [==============================] - 34s 3ms/step - loss: 0.3389 - val_loss: 0.3715\n",
      "Epoch 5/100\n",
      "13198/13198 [==============================] - 33s 3ms/step - loss: 0.3362 - val_loss: 0.3784\n",
      "Epoch 6/100\n",
      "13198/13198 [==============================] - 34s 3ms/step - loss: 0.3341 - val_loss: 0.3631\n",
      "Epoch 7/100\n",
      "13198/13198 [==============================] - 34s 3ms/step - loss: 0.3328 - val_loss: 0.3651\n",
      "Epoch 8/100\n",
      "13198/13198 [==============================] - 34s 3ms/step - loss: 0.3316 - val_loss: 0.3623\n",
      "Epoch 9/100\n",
      "13198/13198 [==============================] - 34s 3ms/step - loss: 0.3305 - val_loss: 0.3600\n",
      "Epoch 10/100\n",
      "13198/13198 [==============================] - 34s 3ms/step - loss: 0.3297 - val_loss: 0.3568\n",
      "Epoch 11/100\n",
      "13198/13198 [==============================] - 33s 3ms/step - loss: 0.3291 - val_loss: 0.3585\n",
      "Epoch 12/100\n",
      "13198/13198 [==============================] - 33s 3ms/step - loss: 0.3282 - val_loss: 0.3610\n",
      "Epoch 13/100\n",
      "13198/13198 [==============================] - 35s 3ms/step - loss: 0.3276 - val_loss: 0.3589\n",
      "Epoch 14/100\n",
      "13198/13198 [==============================] - 35s 3ms/step - loss: 0.3272 - val_loss: 0.3609\n",
      "Epoch 15/100\n",
      "13198/13198 [==============================] - 36s 3ms/step - loss: 0.3268 - val_loss: 0.3629\n",
      "Epoch 16/100\n",
      "13198/13198 [==============================] - 34s 3ms/step - loss: 0.3263 - val_loss: 0.3617\n",
      "Epoch 17/100\n",
      "13198/13198 [==============================] - 33s 3ms/step - loss: 0.3258 - val_loss: 0.3590\n",
      "Epoch 18/100\n",
      "13198/13198 [==============================] - 33s 3ms/step - loss: 0.3255 - val_loss: 0.3590\n",
      "Epoch 19/100\n",
      "13198/13198 [==============================] - 33s 3ms/step - loss: 0.3253 - val_loss: 0.3572\n",
      "Epoch 20/100\n",
      "13198/13198 [==============================] - 33s 3ms/step - loss: 0.3249 - val_loss: 0.3559\n",
      "Epoch 21/100\n",
      "13198/13198 [==============================] - 33s 3ms/step - loss: 0.3244 - val_loss: 0.3560\n",
      "Epoch 22/100\n",
      "13198/13198 [==============================] - 33s 2ms/step - loss: 0.3242 - val_loss: 0.3644\n",
      "Epoch 23/100\n",
      "13198/13198 [==============================] - 33s 2ms/step - loss: 0.3240 - val_loss: 0.3550\n",
      "Epoch 24/100\n",
      "13198/13198 [==============================] - 33s 2ms/step - loss: 0.3238 - val_loss: 0.3541\n",
      "Epoch 25/100\n",
      "13198/13198 [==============================] - 34s 3ms/step - loss: 0.3235 - val_loss: 0.3556\n",
      "Epoch 26/100\n",
      "13198/13198 [==============================] - 35s 3ms/step - loss: 0.3235 - val_loss: 0.3519\n",
      "Epoch 27/100\n",
      "13198/13198 [==============================] - 35s 3ms/step - loss: 0.3231 - val_loss: 0.3539\n",
      "Epoch 28/100\n",
      "13198/13198 [==============================] - 33s 3ms/step - loss: 0.3229 - val_loss: 0.3502\n",
      "Epoch 29/100\n",
      "13198/13198 [==============================] - 33s 2ms/step - loss: 0.3229 - val_loss: 0.3579\n",
      "Epoch 30/100\n",
      "13198/13198 [==============================] - 33s 2ms/step - loss: 0.3225 - val_loss: 0.3565\n",
      "Epoch 31/100\n",
      "13198/13198 [==============================] - 33s 2ms/step - loss: 0.3226 - val_loss: 0.3568\n",
      "Epoch 32/100\n",
      "13198/13198 [==============================] - 33s 2ms/step - loss: 0.3224 - val_loss: 0.3566\n",
      "Epoch 33/100\n",
      "13198/13198 [==============================] - 33s 2ms/step - loss: 0.3222 - val_loss: 0.3576\n",
      "Epoch 34/100\n",
      "13198/13198 [==============================] - 33s 3ms/step - loss: 0.3220 - val_loss: 0.3534\n",
      "Epoch 35/100\n",
      "13198/13198 [==============================] - 33s 3ms/step - loss: 0.3219 - val_loss: 0.3530\n",
      "Epoch 36/100\n",
      "13198/13198 [==============================] - 33s 2ms/step - loss: 0.3219 - val_loss: 0.3551\n",
      "Epoch 37/100\n",
      "13198/13198 [==============================] - 33s 3ms/step - loss: 0.3219 - val_loss: 0.3525\n",
      "Epoch 38/100\n",
      "13198/13198 [==============================] - 34s 3ms/step - loss: 0.3215 - val_loss: 0.3518\n",
      "Epoch 39/100\n",
      "13198/13198 [==============================] - 35s 3ms/step - loss: 0.3215 - val_loss: 0.3623\n",
      "Epoch 40/100\n",
      "13198/13198 [==============================] - 35s 3ms/step - loss: 0.3215 - val_loss: 0.3493\n",
      "Epoch 41/100\n",
      "13198/13198 [==============================] - 34s 3ms/step - loss: 0.3213 - val_loss: 0.3517\n",
      "Epoch 42/100\n",
      "13198/13198 [==============================] - 33s 2ms/step - loss: 0.3212 - val_loss: 0.3534\n",
      "Epoch 43/100\n",
      "13198/13198 [==============================] - 33s 3ms/step - loss: 0.3212 - val_loss: 0.3514\n",
      "Epoch 44/100\n",
      "13198/13198 [==============================] - 33s 3ms/step - loss: 0.3209 - val_loss: 0.3532\n",
      "Epoch 45/100\n",
      "13198/13198 [==============================] - 33s 2ms/step - loss: 0.3208 - val_loss: 0.3565\n",
      "Epoch 46/100\n",
      "13198/13198 [==============================] - 33s 2ms/step - loss: 0.3209 - val_loss: 0.3507\n",
      "Epoch 47/100\n",
      "13198/13198 [==============================] - 33s 2ms/step - loss: 0.3207 - val_loss: 0.3522\n",
      "Epoch 48/100\n",
      "13198/13198 [==============================] - 33s 2ms/step - loss: 0.3206 - val_loss: 0.3525\n",
      "Epoch 49/100\n",
      "13198/13198 [==============================] - 33s 2ms/step - loss: 0.3205 - val_loss: 0.3537\n",
      "Epoch 50/100\n",
      "13198/13198 [==============================] - 33s 2ms/step - loss: 0.3205 - val_loss: 0.3500\n",
      "Epoch 51/100\n",
      "13198/13198 [==============================] - 33s 3ms/step - loss: 0.3202 - val_loss: 0.3508\n",
      "Epoch 52/100\n",
      "13198/13198 [==============================] - 35s 3ms/step - loss: 0.3203 - val_loss: 0.3541\n",
      "Epoch 53/100\n",
      "13198/13198 [==============================] - 36s 3ms/step - loss: 0.3201 - val_loss: 0.3534\n",
      "Epoch 54/100\n",
      "13198/13198 [==============================] - 34s 3ms/step - loss: 0.3203 - val_loss: 0.3519\n",
      "Epoch 55/100\n",
      "13198/13198 [==============================] - 33s 2ms/step - loss: 0.3202 - val_loss: 0.3510\n",
      "Epoch 56/100\n",
      "13198/13198 [==============================] - 33s 2ms/step - loss: 0.3199 - val_loss: 0.3533\n",
      "Epoch 57/100\n",
      "13198/13198 [==============================] - 33s 2ms/step - loss: 0.3199 - val_loss: 0.3477\n",
      "Epoch 58/100\n",
      "13198/13198 [==============================] - 33s 2ms/step - loss: 0.3199 - val_loss: 0.3574\n",
      "Epoch 59/100\n",
      "13198/13198 [==============================] - 33s 2ms/step - loss: 0.3199 - val_loss: 0.3558\n",
      "Epoch 60/100\n",
      "13198/13198 [==============================] - 33s 2ms/step - loss: 0.3198 - val_loss: 0.3496\n",
      "Epoch 61/100\n",
      "13198/13198 [==============================] - 33s 2ms/step - loss: 0.3198 - val_loss: 0.3521\n",
      "Epoch 62/100\n",
      "13198/13198 [==============================] - 33s 3ms/step - loss: 0.3197 - val_loss: 0.3535\n",
      "Epoch 63/100\n",
      "13198/13198 [==============================] - 33s 2ms/step - loss: 0.3196 - val_loss: 0.3516\n",
      "Epoch 64/100\n",
      "13198/13198 [==============================] - 33s 3ms/step - loss: 0.3195 - val_loss: 0.3513\n",
      "Epoch 65/100\n",
      "13198/13198 [==============================] - 35s 3ms/step - loss: 0.3194 - val_loss: 0.3489\n",
      "Epoch 66/100\n",
      "13198/13198 [==============================] - 35s 3ms/step - loss: 0.3195 - val_loss: 0.3494\n",
      "Epoch 67/100\n",
      "13198/13198 [==============================] - 34s 3ms/step - loss: 0.3193 - val_loss: 0.3475\n",
      "Epoch 68/100\n",
      "13198/13198 [==============================] - 33s 2ms/step - loss: 0.3195 - val_loss: 0.3519\n",
      "Epoch 69/100\n",
      "13198/13198 [==============================] - 33s 2ms/step - loss: 0.3194 - val_loss: 0.3504\n",
      "Epoch 70/100\n",
      "13198/13198 [==============================] - 32s 2ms/step - loss: 0.3192 - val_loss: 0.3480\n",
      "Epoch 71/100\n",
      "13198/13198 [==============================] - 33s 2ms/step - loss: 0.3192 - val_loss: 0.3496\n",
      "Epoch 72/100\n",
      "13198/13198 [==============================] - 33s 3ms/step - loss: 0.3192 - val_loss: 0.3518\n",
      "Epoch 73/100\n",
      "13198/13198 [==============================] - 33s 2ms/step - loss: 0.3190 - val_loss: 0.3497\n",
      "Epoch 74/100\n",
      "13198/13198 [==============================] - 33s 2ms/step - loss: 0.3193 - val_loss: 0.3458\n",
      "Epoch 75/100\n",
      "13198/13198 [==============================] - 33s 2ms/step - loss: 0.3192 - val_loss: 0.3497\n",
      "Epoch 76/100\n",
      "13198/13198 [==============================] - 33s 2ms/step - loss: 0.3191 - val_loss: 0.3493\n",
      "Epoch 77/100\n",
      "13198/13198 [==============================] - 34s 3ms/step - loss: 0.3190 - val_loss: 0.3539\n",
      "Epoch 78/100\n",
      "13198/13198 [==============================] - 35s 3ms/step - loss: 0.3190 - val_loss: 0.3515\n",
      "Epoch 79/100\n",
      "13198/13198 [==============================] - 35s 3ms/step - loss: 0.3189 - val_loss: 0.3523\n",
      "Epoch 80/100\n",
      "13198/13198 [==============================] - 35s 3ms/step - loss: 0.3190 - val_loss: 0.3529\n",
      "Epoch 81/100\n",
      "13198/13198 [==============================] - 33s 3ms/step - loss: 0.3188 - val_loss: 0.3534\n",
      "Epoch 82/100\n",
      "13198/13198 [==============================] - 33s 2ms/step - loss: 0.3187 - val_loss: 0.3484\n",
      "Epoch 83/100\n",
      "13198/13198 [==============================] - 33s 2ms/step - loss: 0.3188 - val_loss: 0.3496\n",
      "Epoch 84/100\n",
      "13198/13198 [==============================] - 33s 2ms/step - loss: 0.3189 - val_loss: 0.3531\n",
      "Epoch 85/100\n",
      "13198/13198 [==============================] - 32s 2ms/step - loss: 0.3187 - val_loss: 0.3472\n",
      "Epoch 86/100\n",
      "13198/13198 [==============================] - 33s 2ms/step - loss: 0.3188 - val_loss: 0.3524\n",
      "Epoch 87/100\n",
      "13198/13198 [==============================] - 33s 2ms/step - loss: 0.3187 - val_loss: 0.3460\n",
      "Epoch 88/100\n",
      "12988/13198 [============================>.] - ETA: 0s - loss: 0.3186"
     ]
    }
   ],
   "source": [
    "history = regressor.fit(X_train, y_train, validation_data=(X_val, y_val), epochs=100, batch_size=256, use_multiprocessing=True)"
   ]
  },
  {
   "cell_type": "markdown",
   "id": "e976aea2-873c-464b-82c6-1e59ae95f095",
   "metadata": {},
   "source": [
    "#### Save model to GCS"
   ]
  },
  {
   "cell_type": "code",
   "execution_count": 28,
   "id": "9b7a7c71-ebcb-45fc-9499-d84645f5dc46",
   "metadata": {},
   "outputs": [
    {
     "name": "stdout",
     "output_type": "stream",
     "text": [
      "INFO:tensorflow:Assets written to: ../../artifacts/best_model/assets\n",
      "Omitting directory \"file://../../artifacts/best_model\". (Did you mean to do cp -r?)\n",
      "CommandException: No URLs matched. Do the files you're operating on exist?\n"
     ]
    }
   ],
   "source": [
    "regressor.save(\"../../artifacts/best_model\")\n",
    "!gsutil cp ../../artifacts/best_model gs://pcqm4mv2/artifacts/best_model   \n"
   ]
  },
  {
   "cell_type": "markdown",
   "id": "8bd7b765-4fb2-4295-aece-66a996e40c3e",
   "metadata": {},
   "source": [
    "#### Save training history to GCS"
   ]
  },
  {
   "cell_type": "code",
   "execution_count": 29,
   "id": "305e421e-a827-4804-84dc-8089bf7762e8",
   "metadata": {},
   "outputs": [
    {
     "name": "stdout",
     "output_type": "stream",
     "text": [
      "INFO:tensorflow:Assets written to: ram://25e08a2e-49ed-447a-8978-9f37855b95bf/assets\n",
      "Copying file://../../artifacts/history_best_model.pkl [Content-Type=application/octet-stream]...\n",
      "/ [1 files][822.4 KiB/822.4 KiB]                                                \n",
      "Operation completed over 1 objects/822.4 KiB.                                    \n"
     ]
    }
   ],
   "source": [
    "with open(\"../../artifacts/history_best_model.pkl\", \"wb\") as f:\n",
    "    pickle.dump(history, f)\n",
    "\n",
    "!gsutil cp ../../artifacts/history_best_model.pkl gs://pcqm4mv2/artifacts/history_best_model.pkl   "
   ]
  },
  {
   "cell_type": "markdown",
   "id": "9037d511-ee20-469e-9bbc-e0d2e1f6531e",
   "metadata": {},
   "source": [
    "#### Get MAE for validation set"
   ]
  },
  {
   "cell_type": "code",
   "execution_count": 30,
   "id": "499d9ec9-ad6e-4154-be4d-aecb406c9e4f",
   "metadata": {},
   "outputs": [
    {
     "data": {
      "text/plain": [
       "array([[-0.40599832],\n",
       "       [-0.40599832],\n",
       "       [-0.4566862 ],\n",
       "       ...,\n",
       "       [ 0.02913779],\n",
       "       [ 1.8598659 ],\n",
       "       [-1.3275093 ]], dtype=float32)"
      ]
     },
     "execution_count": 30,
     "metadata": {},
     "output_type": "execute_result"
    }
   ],
   "source": [
    "y_val_pred = regressor.predict(X_val)\n",
    "y_val_pred"
   ]
  },
  {
   "cell_type": "code",
   "execution_count": 31,
   "id": "0762485a-d1a6-4081-810c-04781948df11",
   "metadata": {},
   "outputs": [],
   "source": [
    "y_val_inv = y_scaler.inverse_transform(y_val)\n",
    "y_val_pred_inv = y_scaler.inverse_transform(y_val_pred)"
   ]
  },
  {
   "cell_type": "code",
   "execution_count": 32,
   "id": "ef271640-0e37-4a83-9f5b-830219f3f4d6",
   "metadata": {},
   "outputs": [
    {
     "name": "stdout",
     "output_type": "stream",
     "text": [
      "MAE Result: 0.4075833376080264\n"
     ]
    }
   ],
   "source": [
    "mae_result = mean_absolute_error(y_val_inv, y_val_pred_inv)\n",
    "print(\"MAE Result:\", mae_result)"
   ]
  },
  {
   "cell_type": "code",
   "execution_count": 34,
   "id": "05b62fd4-d71f-4f9b-a059-43e5f5c3f98f",
   "metadata": {},
   "outputs": [],
   "source": [
    "import matplotlib.pyplot as plt\n",
    "import seaborn as sns\n",
    "sns.set()"
   ]
  },
  {
   "cell_type": "code",
   "execution_count": 42,
   "id": "fb55e76d-1aa8-4f5b-a5b7-ec67ee62cb0f",
   "metadata": {},
   "outputs": [
    {
     "data": {
      "text/plain": [
       "<matplotlib.legend.Legend at 0x7f56881eb090>"
      ]
     },
     "execution_count": 42,
     "metadata": {},
     "output_type": "execute_result"
    },
    {
     "data": {
      "image/png": "[encoded data removed]",
      "text/plain": [
       "<Figure size 720x576 with 1 Axes>"
      ]
     },
     "metadata": {},
     "output_type": "display_data"
    }
   ],
   "source": [
    "fig, ax = plt.subplots(figsize=(10, 8))\n",
    "\n",
    "ax.plot(history.history[\"loss\"], label=\"train\")\n",
    "ax.plot(history.history[\"val_loss\"], label=\"validation\")\n",
    "\n",
    "ax.set_title(\"Loss by training epoch\", fontsize=20)\n",
    "ax.set_ylabel(\"MAE (Mean Absolute Error)\", fontsize=16)\n",
    "ax.set_xlabel(\"Epoch\", fontsize=16)\n",
    "ax.legend()"
   ]
  }
 ],
 "metadata": {
  "environment": {
   "kernel": "python3",
   "name": "tf2-gpu.2-8.m94",
   "type": "gcloud",
   "uri": "gcr.io/deeplearning-platform-release/tf2-gpu.2-8:m94"
  },
  "kernelspec": {
   "display_name": "Python 3",
   "language": "python",
   "name": "python3"
  },
  "language_info": {
   "codemirror_mode": {
    "name": "ipython",
    "version": 3
   },
   "file_extension": ".py",
   "mimetype": "text/x-python",
   "name": "python",
   "nbconvert_exporter": "python",
   "pygments_lexer": "ipython3",
   "version": "3.7.12"
  }
 },
 "nbformat": 4,
 "nbformat_minor": 5
}
