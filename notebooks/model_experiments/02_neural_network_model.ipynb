{
 "cells": [
  {
   "cell_type": "markdown",
   "id": "36b9d6dc-0379-41de-ae8b-6bad157549f8",
   "metadata": {},
   "source": [
    "#### Import required libs"
   ]
  },
  {
   "cell_type": "code",
   "execution_count": null,
   "id": "09d6aa3b-502d-4701-9b06-6f196502fc2e",
   "metadata": {},
   "outputs": [],
   "source": [
    "import sys\n",
    "sys.path.append('/home/jupyter/app')\n",
    "\n",
    "import pickle\n",
    "\n",
    "import numpy as np\n",
    "\n",
    "from sklearn.preprocessing import StandardScaler\n",
    "\n",
    "from scikeras.wrappers import KerasRegressor\n",
    "from sklearn.model_selection import GridSearchCV\n",
    "\n",
    "import tensorflow as tf\n",
    "from tensorflow.keras.models import Sequential\n",
    "from tensorflow.keras.layers import Dense, Dropout\n",
    "\n",
    "from src.io_utils import load_dataframe"
   ]
  },
  {
   "cell_type": "markdown",
   "id": "13be78c5-a3a7-4f16-a147-4b3620147d27",
   "metadata": {},
   "source": [
    "#### Define constants"
   ]
  },
  {
   "cell_type": "code",
   "execution_count": null,
   "id": "10085a57-8cbb-4fb2-893b-17de972ebac7",
   "metadata": {},
   "outputs": [],
   "source": [
    "GS_DIR_FEATURES = \"gs://pcqm4mv2/data/features\""
   ]
  },
  {
   "cell_type": "markdown",
   "id": "f67df4c5-5b5b-466c-bd5b-24bbe6be504e",
   "metadata": {},
   "source": [
    "#### Load datasets as pandas DataFrame"
   ]
  },
  {
   "cell_type": "code",
   "execution_count": null,
   "id": "d8ab3a42-9492-4760-95dc-cae6df23b4b5",
   "metadata": {},
   "outputs": [],
   "source": [
    "df_train = load_dataframe(\"train.csv\", GS_DIR_FEATURES)\n",
    "\n",
    "print(\"df_train shape:\", df_train.shape)\n",
    "df_train.head()"
   ]
  },
  {
   "cell_type": "code",
   "execution_count": null,
   "id": "1361e536-bf84-4db3-b673-cbe1804a96c2",
   "metadata": {},
   "outputs": [],
   "source": [
    "df_val = load_dataframe(\"valid.csv\", GS_DIR_FEATURES)\n",
    "\n",
    "print(\"df_val shape:\", df_val.shape)\n",
    "df_val.head()"
   ]
  },
  {
   "cell_type": "markdown",
   "id": "e15d210a-655e-461d-b762-ae13bf7b832f",
   "metadata": {},
   "source": [
    "#### Replace NaN with 0"
   ]
  },
  {
   "cell_type": "code",
   "execution_count": null,
   "id": "30bdaec2-736b-4300-bfb2-900b48c70b77",
   "metadata": {},
   "outputs": [],
   "source": [
    "df_train = df_train.fillna(0)\n",
    "df_val = df_val.fillna(0)"
   ]
  },
  {
   "cell_type": "code",
   "execution_count": null,
   "id": "24839df5-5255-451b-85b2-b3d7cf947f00",
   "metadata": {},
   "outputs": [],
   "source": [
    "print(\"Number of NaN in df_train:\", df_train.isna().sum().sum())\n",
    "print(\"Number of NaN in df_valn:\", df_val.isna().sum().sum())"
   ]
  },
  {
   "cell_type": "markdown",
   "id": "e7341e7c-e4df-45bc-a0e2-a228f0d8e020",
   "metadata": {},
   "source": [
    "#### Create X and y objects to train"
   ]
  },
  {
   "cell_type": "code",
   "execution_count": null,
   "id": "091c1c25-5937-4944-a34e-b21035f5b241",
   "metadata": {},
   "outputs": [],
   "source": [
    "X_train = df_train.drop([\"smiles\", \"homolumogap\"], axis=1).to_numpy()\n",
    "y_train = df_train[[\"homolumogap\"]].to_numpy()\n",
    "\n",
    "print(\"X_train shape:\", X_train.shape)\n",
    "print(X_train)\n",
    "\n",
    "print(\"y_train shape:\", y_train.shape)\n",
    "print(y_train)"
   ]
  },
  {
   "cell_type": "code",
   "execution_count": null,
   "id": "17a30c1b-10c9-4bc6-9d5c-463c816b4f61",
   "metadata": {},
   "outputs": [],
   "source": [
    "X_val = df_val.drop([\"smiles\", \"homolumogap\"], axis=1).to_numpy()\n",
    "y_val = df_val[[\"homolumogap\"]].to_numpy()\n",
    "\n",
    "print(\"X_val shape:\", X_val.shape)\n",
    "print(X_val)\n",
    "\n",
    "print(\"y_val shape:\", y_val.shape)\n",
    "print(y_val)"
   ]
  },
  {
   "cell_type": "markdown",
   "id": "327035bd-34cc-4d06-b9c6-2aee19b3f0f8",
   "metadata": {},
   "source": [
    "#### Scale data with StandardScaler"
   ]
  },
  {
   "cell_type": "code",
   "execution_count": null,
   "id": "313df5e0-31ee-4397-8feb-72cee7197978",
   "metadata": {},
   "outputs": [],
   "source": [
    "X_scaler = StandardScaler()\n",
    "y_scaler = StandardScaler()"
   ]
  },
  {
   "cell_type": "code",
   "execution_count": null,
   "id": "c243f574-ebd2-460e-b2d2-93eac157ce15",
   "metadata": {},
   "outputs": [],
   "source": [
    "X_train = X_scaler.fit_transform(X_train)\n",
    "y_train = y_scaler.fit_transform(y_train)\n",
    "\n",
    "X_val = X_scaler.transform(X_val)\n",
    "y_val = y_scaler.transform(y_val)"
   ]
  },
  {
   "cell_type": "markdown",
   "id": "bf78094e-6d5f-4fc2-83dc-9340af15b330",
   "metadata": {},
   "source": [
    "#### Save scalers locally and to GCS"
   ]
  },
  {
   "cell_type": "code",
   "execution_count": null,
   "id": "9f2a8936-104c-4a5b-bbc7-f5374770ac0d",
   "metadata": {},
   "outputs": [],
   "source": [
    "with open(\"../../artifacts/sc_x_features.pkl\", \"wb\") as f:\n",
    "    pickle.dump(X_scaler, f)\n",
    "    \n",
    "!gsutil cp ../../artifacts/sc_x_features.pkl gs://pcqm4mv2/artifacts/sc_x_features.pkl"
   ]
  },
  {
   "cell_type": "code",
   "execution_count": null,
   "id": "adf94d61-ddcd-461c-b5a7-cf23e89de433",
   "metadata": {},
   "outputs": [],
   "source": [
    "with open(\"../../artifacts/sc_y.pkl\", \"wb\") as f:\n",
    "    pickle.dump(y_scaler, f)\n",
    "\n",
    "!gsutil cp ../../artifacts/sc_y.pkl gs://pcqm4mv2/artifacts/sc_y.pkl    "
   ]
  },
  {
   "cell_type": "markdown",
   "id": "3cb924ab-d5ec-487e-b846-79f866854930",
   "metadata": {},
   "source": [
    "#### Train Model"
   ]
  },
  {
   "cell_type": "markdown",
   "id": "c788b93e-4b35-46d8-99a3-e08d8e913204",
   "metadata": {},
   "source": [
    "##### Number of features to use in input shape"
   ]
  },
  {
   "cell_type": "code",
   "execution_count": null,
   "id": "597d52c5-8c18-4f70-880e-29b5ea64bd0a",
   "metadata": {},
   "outputs": [],
   "source": [
    "N_FEATURES = X_train.shape[1]\n",
    "N_FEATURES"
   ]
  },
  {
   "cell_type": "markdown",
   "id": "8d98a5d7-bdf3-49e7-a689-4b573f27d006",
   "metadata": {},
   "source": [
    "##### Function to create model given a set of hyperparameters"
   ]
  },
  {
   "cell_type": "code",
   "execution_count": null,
   "id": "1d4a2e8b-a355-48cc-812f-645fb4f305ec",
   "metadata": {},
   "outputs": [],
   "source": [
    "def create_model(\n",
    "    n_hidden_layers=1, \n",
    "    n_neurons=32, \n",
    "    dropout_rate=0,\n",
    "    dropout_last_layer=False,\n",
    "    activation_function=\"relu\",\n",
    "    input_shape=(N_FEATURES, )\n",
    "):\n",
    "    model = Sequential()\n",
    "    model.add(Dense(n_neurons, activation=activation_function, input_shape=input_shape))\n",
    "    \n",
    "    for _ in range(n_hidden_layers-1):\n",
    "        if dropout_rate:\n",
    "            model.add(Dropout(dropout_rate))\n",
    "        model.add(Dense(n_neurons, activation=activation_function))\n",
    "    \n",
    "    if dropout_last_layer and dropout_rate:\n",
    "        model.add(Dropout(dropout_rate))\n",
    "\n",
    "    model.compile(optimizer=\"adam\", loss=\"mae\", metrics=[\"mae\", \"mse\"])\n",
    "\n",
    "    return model"
   ]
  },
  {
   "cell_type": "markdown",
   "id": "c4140b5c-418c-4046-be07-ef6a0c64bda3",
   "metadata": {},
   "source": [
    "##### Create a KerasRegressor given a model function"
   ]
  },
  {
   "cell_type": "code",
   "execution_count": null,
   "id": "2b2e2d1e-2cc2-4724-90f2-68a16e4c3eb2",
   "metadata": {},
   "outputs": [],
   "source": [
    "regressor = KerasRegressor(\n",
    "    model=create_model,\n",
    "    epochs=30,\n",
    "    batch_size=512\n",
    ")"
   ]
  },
  {
   "cell_type": "markdown",
   "id": "f70011b8-85eb-405c-a848-a9580c7f00cf",
   "metadata": {},
   "source": [
    "##### Define params to search"
   ]
  },
  {
   "cell_type": "code",
   "execution_count": null,
   "id": "2ed9bfe3-1ed8-4060-a6db-2367a81c83db",
   "metadata": {},
   "outputs": [],
   "source": [
    "param_grid = {\n",
    "    \"model__n_neurons\": [32, 64, 128],\n",
    "    \"model__n_hidden_layers\": [2, 3, 4],\n",
    "    \"model__dropout_rate\": [0, 0.1, 0.2],\n",
    "    \"model__dropout_last_layer\": [True, False],\n",
    "    \"model__activation_function\": [\"relu\", \"sigmoid\", \"tanh\"],\n",
    "}"
   ]
  },
  {
   "cell_type": "markdown",
   "id": "9d012543-ef69-4c4d-8e3f-b5e2ccd24605",
   "metadata": {},
   "source": [
    "##### Instantiate a grid search to use all threads available"
   ]
  },
  {
   "cell_type": "code",
   "execution_count": null,
   "id": "64b3464a-7c91-4cb6-b687-cfc344322810",
   "metadata": {},
   "outputs": [],
   "source": [
    "grid_search = GridSearchCV(\n",
    "    regressor,\n",
    "    param_grid,\n",
    "    scoring=\"neg_mean_absolute_error\",\n",
    "    cv=5,\n",
    "    verbose=1,\n",
    "    n_jobs=64\n",
    ")"
   ]
  },
  {
   "cell_type": "markdown",
   "id": "659fdcb3-ef6b-44a0-864e-cf51bf53992c",
   "metadata": {},
   "source": [
    "##### Start training"
   ]
  },
  {
   "cell_type": "code",
   "execution_count": null,
   "id": "0fe97713-57f9-48c5-ae21-d04325721184",
   "metadata": {},
   "outputs": [],
   "source": [
    "np.random.seed(2907)\n",
    "grid_result = grid_search.fit(X_train, y_train)"
   ]
  }
 ],
 "metadata": {
  "environment": {
   "kernel": "python3",
   "name": "tf2-gpu.2-8.m94",
   "type": "gcloud",
   "uri": "gcr.io/deeplearning-platform-release/tf2-gpu.2-8:m94"
  },
  "kernelspec": {
   "display_name": "Python 3",
   "language": "python",
   "name": "python3"
  },
  "language_info": {
   "codemirror_mode": {
    "name": "ipython",
    "version": 3
   },
   "file_extension": ".py",
   "mimetype": "text/x-python",
   "name": "python",
   "nbconvert_exporter": "python",
   "pygments_lexer": "ipython3",
   "version": "3.7.12"
  }
 },
 "nbformat": 4,
 "nbformat_minor": 5
}
