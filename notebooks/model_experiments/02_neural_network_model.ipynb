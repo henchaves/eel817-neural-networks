{
 "cells": [
  {
   "cell_type": "markdown",
   "id": "36b9d6dc-0379-41de-ae8b-6bad157549f8",
   "metadata": {},
   "source": [
    "#### Import required libs"
   ]
  },
  {
   "cell_type": "code",
   "execution_count": 1,
   "id": "09d6aa3b-502d-4701-9b06-6f196502fc2e",
   "metadata": {},
   "outputs": [],
   "source": [
    "import sys\n",
    "sys.path.append('/home/jupyter/app')\n",
    "\n",
    "import pickle\n",
    "\n",
    "import numpy as np\n",
    "\n",
    "from sklearn.preprocessing import StandardScaler\n",
    "from sklearn.model_selection import GridSearchCV\n",
    "from sklearn.metrics import mean_absolute_error\n",
    "\n",
    "import tensorflow as tf\n",
    "from tensorflow.keras.models import Sequential\n",
    "from tensorflow.keras.layers import Dense, Dropout\n",
    "\n",
    "from scikeras.wrappers import KerasRegressor\n",
    "\n",
    "\n",
    "from src.io_utils import load_dataframe"
   ]
  },
  {
   "cell_type": "markdown",
   "id": "13be78c5-a3a7-4f16-a147-4b3620147d27",
   "metadata": {},
   "source": [
    "#### Define constants"
   ]
  },
  {
   "cell_type": "code",
   "execution_count": 2,
   "id": "10085a57-8cbb-4fb2-893b-17de972ebac7",
   "metadata": {},
   "outputs": [],
   "source": [
    "GS_DIR_FEATURES = \"gs://pcqm4mv2/data/features\""
   ]
  },
  {
   "cell_type": "markdown",
   "id": "f67df4c5-5b5b-466c-bd5b-24bbe6be504e",
   "metadata": {},
   "source": [
    "#### Load datasets as pandas DataFrame"
   ]
  },
  {
   "cell_type": "code",
   "execution_count": 3,
   "id": "d8ab3a42-9492-4760-95dc-cae6df23b4b5",
   "metadata": {},
   "outputs": [
    {
     "name": "stderr",
     "output_type": "stream",
     "text": [
      "/opt/conda/lib/python3.7/site-packages/numpy/lib/arraysetops.py:580: FutureWarning: elementwise comparison failed; returning scalar instead, but in the future will perform elementwise comparison\n",
      "  mask |= (ar1 == a)\n"
     ]
    },
    {
     "name": "stdout",
     "output_type": "stream",
     "text": [
      "df_train shape: (3378606, 29)\n"
     ]
    },
    {
     "data": {
      "text/html": [
       "<div>\n",
       "<style scoped>\n",
       "    .dataframe tbody tr th:only-of-type {\n",
       "        vertical-align: middle;\n",
       "    }\n",
       "\n",
       "    .dataframe tbody tr th {\n",
       "        vertical-align: top;\n",
       "    }\n",
       "\n",
       "    .dataframe thead th {\n",
       "        text-align: right;\n",
       "    }\n",
       "</style>\n",
       "<table border=\"1\" class=\"dataframe\">\n",
       "  <thead>\n",
       "    <tr style=\"text-align: right;\">\n",
       "      <th></th>\n",
       "      <th>smiles</th>\n",
       "      <th>homolumogap</th>\n",
       "      <th>number_of_atoms</th>\n",
       "      <th>number_of_heavy_atoms</th>\n",
       "      <th>number_of_bonds</th>\n",
       "      <th>number_of_heavy_bonds</th>\n",
       "      <th>number_of_conformations</th>\n",
       "      <th>exact_mol_weight</th>\n",
       "      <th>average_mol_weight</th>\n",
       "      <th>heavy_mol_weight</th>\n",
       "      <th>...</th>\n",
       "      <th>number_of_B_atoms</th>\n",
       "      <th>number_of_C_atoms</th>\n",
       "      <th>number_of_N_atoms</th>\n",
       "      <th>number_of_O_atoms</th>\n",
       "      <th>number_of_F_atoms</th>\n",
       "      <th>number_of_Si_atoms</th>\n",
       "      <th>number_of_P_atoms</th>\n",
       "      <th>number_of_S_atoms</th>\n",
       "      <th>number_of_Cl_atoms</th>\n",
       "      <th>number_of_Br_atoms</th>\n",
       "    </tr>\n",
       "    <tr>\n",
       "      <th>idx</th>\n",
       "      <th></th>\n",
       "      <th></th>\n",
       "      <th></th>\n",
       "      <th></th>\n",
       "      <th></th>\n",
       "      <th></th>\n",
       "      <th></th>\n",
       "      <th></th>\n",
       "      <th></th>\n",
       "      <th></th>\n",
       "      <th></th>\n",
       "      <th></th>\n",
       "      <th></th>\n",
       "      <th></th>\n",
       "      <th></th>\n",
       "      <th></th>\n",
       "      <th></th>\n",
       "      <th></th>\n",
       "      <th></th>\n",
       "      <th></th>\n",
       "      <th></th>\n",
       "    </tr>\n",
       "  </thead>\n",
       "  <tbody>\n",
       "    <tr>\n",
       "      <th>0</th>\n",
       "      <td>O=C1[N]c2ccncc2[CH][C@@H]1c1ccc(cc1)C</td>\n",
       "      <td>3.047675</td>\n",
       "      <td>30</td>\n",
       "      <td>18</td>\n",
       "      <td>32</td>\n",
       "      <td>20</td>\n",
       "      <td>0</td>\n",
       "      <td>236.094963</td>\n",
       "      <td>236.274</td>\n",
       "      <td>224.178</td>\n",
       "      <td>...</td>\n",
       "      <td>0</td>\n",
       "      <td>15</td>\n",
       "      <td>2</td>\n",
       "      <td>1</td>\n",
       "      <td>0</td>\n",
       "      <td>0</td>\n",
       "      <td>0</td>\n",
       "      <td>0</td>\n",
       "      <td>0</td>\n",
       "      <td>0</td>\n",
       "    </tr>\n",
       "    <tr>\n",
       "      <th>1</th>\n",
       "      <td>COc1cc(OC)ccc1/C=C/N(C(=O)C)C</td>\n",
       "      <td>4.410966</td>\n",
       "      <td>34</td>\n",
       "      <td>17</td>\n",
       "      <td>34</td>\n",
       "      <td>17</td>\n",
       "      <td>0</td>\n",
       "      <td>235.120843</td>\n",
       "      <td>235.283</td>\n",
       "      <td>218.147</td>\n",
       "      <td>...</td>\n",
       "      <td>0</td>\n",
       "      <td>13</td>\n",
       "      <td>1</td>\n",
       "      <td>3</td>\n",
       "      <td>0</td>\n",
       "      <td>0</td>\n",
       "      <td>0</td>\n",
       "      <td>0</td>\n",
       "      <td>0</td>\n",
       "      <td>0</td>\n",
       "    </tr>\n",
       "    <tr>\n",
       "      <th>2</th>\n",
       "      <td>C=CCN(C(=O)C)/C=C/c1ccccc1C</td>\n",
       "      <td>4.639541</td>\n",
       "      <td>33</td>\n",
       "      <td>16</td>\n",
       "      <td>33</td>\n",
       "      <td>16</td>\n",
       "      <td>0</td>\n",
       "      <td>215.131014</td>\n",
       "      <td>215.296</td>\n",
       "      <td>198.160</td>\n",
       "      <td>...</td>\n",
       "      <td>0</td>\n",
       "      <td>14</td>\n",
       "      <td>1</td>\n",
       "      <td>1</td>\n",
       "      <td>0</td>\n",
       "      <td>0</td>\n",
       "      <td>0</td>\n",
       "      <td>0</td>\n",
       "      <td>0</td>\n",
       "      <td>0</td>\n",
       "    </tr>\n",
       "    <tr>\n",
       "      <th>3</th>\n",
       "      <td>C=CCN(C(=O)C)/C=C/c1ccccc1F</td>\n",
       "      <td>4.492600</td>\n",
       "      <td>30</td>\n",
       "      <td>16</td>\n",
       "      <td>30</td>\n",
       "      <td>16</td>\n",
       "      <td>0</td>\n",
       "      <td>219.105942</td>\n",
       "      <td>219.259</td>\n",
       "      <td>205.147</td>\n",
       "      <td>...</td>\n",
       "      <td>0</td>\n",
       "      <td>13</td>\n",
       "      <td>1</td>\n",
       "      <td>1</td>\n",
       "      <td>1</td>\n",
       "      <td>0</td>\n",
       "      <td>0</td>\n",
       "      <td>0</td>\n",
       "      <td>0</td>\n",
       "      <td>0</td>\n",
       "    </tr>\n",
       "    <tr>\n",
       "      <th>4</th>\n",
       "      <td>C=CCN(C(=O)C)/C=C/c1ccccc1Cl</td>\n",
       "      <td>4.612330</td>\n",
       "      <td>30</td>\n",
       "      <td>16</td>\n",
       "      <td>30</td>\n",
       "      <td>16</td>\n",
       "      <td>0</td>\n",
       "      <td>235.076392</td>\n",
       "      <td>235.714</td>\n",
       "      <td>221.602</td>\n",
       "      <td>...</td>\n",
       "      <td>0</td>\n",
       "      <td>13</td>\n",
       "      <td>1</td>\n",
       "      <td>1</td>\n",
       "      <td>0</td>\n",
       "      <td>0</td>\n",
       "      <td>0</td>\n",
       "      <td>0</td>\n",
       "      <td>1</td>\n",
       "      <td>0</td>\n",
       "    </tr>\n",
       "  </tbody>\n",
       "</table>\n",
       "<p>5 rows × 29 columns</p>\n",
       "</div>"
      ],
      "text/plain": [
       "                                    smiles  homolumogap  number_of_atoms  \\\n",
       "idx                                                                        \n",
       "0    O=C1[N]c2ccncc2[CH][C@@H]1c1ccc(cc1)C     3.047675               30   \n",
       "1            COc1cc(OC)ccc1/C=C/N(C(=O)C)C     4.410966               34   \n",
       "2              C=CCN(C(=O)C)/C=C/c1ccccc1C     4.639541               33   \n",
       "3              C=CCN(C(=O)C)/C=C/c1ccccc1F     4.492600               30   \n",
       "4             C=CCN(C(=O)C)/C=C/c1ccccc1Cl     4.612330               30   \n",
       "\n",
       "     number_of_heavy_atoms  number_of_bonds  number_of_heavy_bonds  \\\n",
       "idx                                                                  \n",
       "0                       18               32                     20   \n",
       "1                       17               34                     17   \n",
       "2                       16               33                     16   \n",
       "3                       16               30                     16   \n",
       "4                       16               30                     16   \n",
       "\n",
       "     number_of_conformations  exact_mol_weight  average_mol_weight  \\\n",
       "idx                                                                  \n",
       "0                          0        236.094963             236.274   \n",
       "1                          0        235.120843             235.283   \n",
       "2                          0        215.131014             215.296   \n",
       "3                          0        219.105942             219.259   \n",
       "4                          0        235.076392             235.714   \n",
       "\n",
       "     heavy_mol_weight  ...  number_of_B_atoms  number_of_C_atoms  \\\n",
       "idx                    ...                                         \n",
       "0             224.178  ...                  0                 15   \n",
       "1             218.147  ...                  0                 13   \n",
       "2             198.160  ...                  0                 14   \n",
       "3             205.147  ...                  0                 13   \n",
       "4             221.602  ...                  0                 13   \n",
       "\n",
       "     number_of_N_atoms  number_of_O_atoms  number_of_F_atoms  \\\n",
       "idx                                                            \n",
       "0                    2                  1                  0   \n",
       "1                    1                  3                  0   \n",
       "2                    1                  1                  0   \n",
       "3                    1                  1                  1   \n",
       "4                    1                  1                  0   \n",
       "\n",
       "     number_of_Si_atoms  number_of_P_atoms  number_of_S_atoms  \\\n",
       "idx                                                             \n",
       "0                     0                  0                  0   \n",
       "1                     0                  0                  0   \n",
       "2                     0                  0                  0   \n",
       "3                     0                  0                  0   \n",
       "4                     0                  0                  0   \n",
       "\n",
       "     number_of_Cl_atoms  number_of_Br_atoms  \n",
       "idx                                          \n",
       "0                     0                   0  \n",
       "1                     0                   0  \n",
       "2                     0                   0  \n",
       "3                     0                   0  \n",
       "4                     1                   0  \n",
       "\n",
       "[5 rows x 29 columns]"
      ]
     },
     "execution_count": 3,
     "metadata": {},
     "output_type": "execute_result"
    }
   ],
   "source": [
    "df_train = load_dataframe(\"train.csv\", GS_DIR_FEATURES)\n",
    "\n",
    "print(\"df_train shape:\", df_train.shape)\n",
    "df_train.head()"
   ]
  },
  {
   "cell_type": "code",
   "execution_count": 4,
   "id": "1361e536-bf84-4db3-b673-cbe1804a96c2",
   "metadata": {},
   "outputs": [
    {
     "name": "stdout",
     "output_type": "stream",
     "text": [
      "df_val shape: (73545, 29)\n"
     ]
    },
    {
     "data": {
      "text/html": [
       "<div>\n",
       "<style scoped>\n",
       "    .dataframe tbody tr th:only-of-type {\n",
       "        vertical-align: middle;\n",
       "    }\n",
       "\n",
       "    .dataframe tbody tr th {\n",
       "        vertical-align: top;\n",
       "    }\n",
       "\n",
       "    .dataframe thead th {\n",
       "        text-align: right;\n",
       "    }\n",
       "</style>\n",
       "<table border=\"1\" class=\"dataframe\">\n",
       "  <thead>\n",
       "    <tr style=\"text-align: right;\">\n",
       "      <th></th>\n",
       "      <th>smiles</th>\n",
       "      <th>homolumogap</th>\n",
       "      <th>number_of_atoms</th>\n",
       "      <th>number_of_heavy_atoms</th>\n",
       "      <th>number_of_bonds</th>\n",
       "      <th>number_of_heavy_bonds</th>\n",
       "      <th>number_of_conformations</th>\n",
       "      <th>exact_mol_weight</th>\n",
       "      <th>average_mol_weight</th>\n",
       "      <th>heavy_mol_weight</th>\n",
       "      <th>...</th>\n",
       "      <th>number_of_B_atoms</th>\n",
       "      <th>number_of_C_atoms</th>\n",
       "      <th>number_of_N_atoms</th>\n",
       "      <th>number_of_O_atoms</th>\n",
       "      <th>number_of_F_atoms</th>\n",
       "      <th>number_of_Si_atoms</th>\n",
       "      <th>number_of_P_atoms</th>\n",
       "      <th>number_of_S_atoms</th>\n",
       "      <th>number_of_Cl_atoms</th>\n",
       "      <th>number_of_Br_atoms</th>\n",
       "    </tr>\n",
       "    <tr>\n",
       "      <th>idx</th>\n",
       "      <th></th>\n",
       "      <th></th>\n",
       "      <th></th>\n",
       "      <th></th>\n",
       "      <th></th>\n",
       "      <th></th>\n",
       "      <th></th>\n",
       "      <th></th>\n",
       "      <th></th>\n",
       "      <th></th>\n",
       "      <th></th>\n",
       "      <th></th>\n",
       "      <th></th>\n",
       "      <th></th>\n",
       "      <th></th>\n",
       "      <th></th>\n",
       "      <th></th>\n",
       "      <th></th>\n",
       "      <th></th>\n",
       "      <th></th>\n",
       "      <th></th>\n",
       "    </tr>\n",
       "  </thead>\n",
       "  <tbody>\n",
       "    <tr>\n",
       "      <th>3378606</th>\n",
       "      <td>COc1ccccc1N[C@H](/C(=N\\C(=N)O)/O)C</td>\n",
       "      <td>4.587840</td>\n",
       "      <td>32</td>\n",
       "      <td>17</td>\n",
       "      <td>32</td>\n",
       "      <td>17</td>\n",
       "      <td>0</td>\n",
       "      <td>237.111341</td>\n",
       "      <td>237.259</td>\n",
       "      <td>222.139</td>\n",
       "      <td>...</td>\n",
       "      <td>0</td>\n",
       "      <td>11</td>\n",
       "      <td>3</td>\n",
       "      <td>3</td>\n",
       "      <td>0</td>\n",
       "      <td>0</td>\n",
       "      <td>0</td>\n",
       "      <td>0</td>\n",
       "      <td>0</td>\n",
       "      <td>0</td>\n",
       "    </tr>\n",
       "    <tr>\n",
       "      <th>3378607</th>\n",
       "      <td>COc1ccccc1N[C@H](/C(=N\\C(=N)O)/O)C</td>\n",
       "      <td>4.971520</td>\n",
       "      <td>32</td>\n",
       "      <td>17</td>\n",
       "      <td>32</td>\n",
       "      <td>17</td>\n",
       "      <td>0</td>\n",
       "      <td>237.111341</td>\n",
       "      <td>237.259</td>\n",
       "      <td>222.139</td>\n",
       "      <td>...</td>\n",
       "      <td>0</td>\n",
       "      <td>11</td>\n",
       "      <td>3</td>\n",
       "      <td>3</td>\n",
       "      <td>0</td>\n",
       "      <td>0</td>\n",
       "      <td>0</td>\n",
       "      <td>0</td>\n",
       "      <td>0</td>\n",
       "      <td>0</td>\n",
       "    </tr>\n",
       "    <tr>\n",
       "      <th>3378613</th>\n",
       "      <td>CC(/N=C(\\N/N=C/1\\C[C@H]2[C@@H]1CC=C2)/S)C</td>\n",
       "      <td>5.496700</td>\n",
       "      <td>32</td>\n",
       "      <td>15</td>\n",
       "      <td>33</td>\n",
       "      <td>16</td>\n",
       "      <td>0</td>\n",
       "      <td>223.114319</td>\n",
       "      <td>223.345</td>\n",
       "      <td>206.209</td>\n",
       "      <td>...</td>\n",
       "      <td>0</td>\n",
       "      <td>11</td>\n",
       "      <td>3</td>\n",
       "      <td>0</td>\n",
       "      <td>0</td>\n",
       "      <td>0</td>\n",
       "      <td>0</td>\n",
       "      <td>1</td>\n",
       "      <td>0</td>\n",
       "      <td>0</td>\n",
       "    </tr>\n",
       "    <tr>\n",
       "      <th>3378614</th>\n",
       "      <td>CC(/N=C(\\N/N=C/1\\C[C@H]2[C@@H]1CC=C2)/S)C</td>\n",
       "      <td>5.485815</td>\n",
       "      <td>32</td>\n",
       "      <td>15</td>\n",
       "      <td>33</td>\n",
       "      <td>16</td>\n",
       "      <td>0</td>\n",
       "      <td>223.114319</td>\n",
       "      <td>223.345</td>\n",
       "      <td>206.209</td>\n",
       "      <td>...</td>\n",
       "      <td>0</td>\n",
       "      <td>11</td>\n",
       "      <td>3</td>\n",
       "      <td>0</td>\n",
       "      <td>0</td>\n",
       "      <td>0</td>\n",
       "      <td>0</td>\n",
       "      <td>1</td>\n",
       "      <td>0</td>\n",
       "      <td>0</td>\n",
       "    </tr>\n",
       "    <tr>\n",
       "      <th>3378624</th>\n",
       "      <td>C/N=C(\\c1cc2c(s1)ccc(c2)F)/O</td>\n",
       "      <td>4.748387</td>\n",
       "      <td>22</td>\n",
       "      <td>14</td>\n",
       "      <td>23</td>\n",
       "      <td>15</td>\n",
       "      <td>0</td>\n",
       "      <td>209.031063</td>\n",
       "      <td>209.245</td>\n",
       "      <td>201.181</td>\n",
       "      <td>...</td>\n",
       "      <td>0</td>\n",
       "      <td>10</td>\n",
       "      <td>1</td>\n",
       "      <td>1</td>\n",
       "      <td>1</td>\n",
       "      <td>0</td>\n",
       "      <td>0</td>\n",
       "      <td>1</td>\n",
       "      <td>0</td>\n",
       "      <td>0</td>\n",
       "    </tr>\n",
       "  </tbody>\n",
       "</table>\n",
       "<p>5 rows × 29 columns</p>\n",
       "</div>"
      ],
      "text/plain": [
       "                                            smiles  homolumogap  \\\n",
       "idx                                                               \n",
       "3378606         COc1ccccc1N[C@H](/C(=N\\C(=N)O)/O)C     4.587840   \n",
       "3378607         COc1ccccc1N[C@H](/C(=N\\C(=N)O)/O)C     4.971520   \n",
       "3378613  CC(/N=C(\\N/N=C/1\\C[C@H]2[C@@H]1CC=C2)/S)C     5.496700   \n",
       "3378614  CC(/N=C(\\N/N=C/1\\C[C@H]2[C@@H]1CC=C2)/S)C     5.485815   \n",
       "3378624               C/N=C(\\c1cc2c(s1)ccc(c2)F)/O     4.748387   \n",
       "\n",
       "         number_of_atoms  number_of_heavy_atoms  number_of_bonds  \\\n",
       "idx                                                                \n",
       "3378606               32                     17               32   \n",
       "3378607               32                     17               32   \n",
       "3378613               32                     15               33   \n",
       "3378614               32                     15               33   \n",
       "3378624               22                     14               23   \n",
       "\n",
       "         number_of_heavy_bonds  number_of_conformations  exact_mol_weight  \\\n",
       "idx                                                                         \n",
       "3378606                     17                        0        237.111341   \n",
       "3378607                     17                        0        237.111341   \n",
       "3378613                     16                        0        223.114319   \n",
       "3378614                     16                        0        223.114319   \n",
       "3378624                     15                        0        209.031063   \n",
       "\n",
       "         average_mol_weight  heavy_mol_weight  ...  number_of_B_atoms  \\\n",
       "idx                                            ...                      \n",
       "3378606             237.259           222.139  ...                  0   \n",
       "3378607             237.259           222.139  ...                  0   \n",
       "3378613             223.345           206.209  ...                  0   \n",
       "3378614             223.345           206.209  ...                  0   \n",
       "3378624             209.245           201.181  ...                  0   \n",
       "\n",
       "         number_of_C_atoms  number_of_N_atoms  number_of_O_atoms  \\\n",
       "idx                                                                \n",
       "3378606                 11                  3                  3   \n",
       "3378607                 11                  3                  3   \n",
       "3378613                 11                  3                  0   \n",
       "3378614                 11                  3                  0   \n",
       "3378624                 10                  1                  1   \n",
       "\n",
       "         number_of_F_atoms  number_of_Si_atoms  number_of_P_atoms  \\\n",
       "idx                                                                 \n",
       "3378606                  0                   0                  0   \n",
       "3378607                  0                   0                  0   \n",
       "3378613                  0                   0                  0   \n",
       "3378614                  0                   0                  0   \n",
       "3378624                  1                   0                  0   \n",
       "\n",
       "         number_of_S_atoms  number_of_Cl_atoms  number_of_Br_atoms  \n",
       "idx                                                                 \n",
       "3378606                  0                   0                   0  \n",
       "3378607                  0                   0                   0  \n",
       "3378613                  1                   0                   0  \n",
       "3378614                  1                   0                   0  \n",
       "3378624                  1                   0                   0  \n",
       "\n",
       "[5 rows x 29 columns]"
      ]
     },
     "execution_count": 4,
     "metadata": {},
     "output_type": "execute_result"
    }
   ],
   "source": [
    "df_val = load_dataframe(\"valid.csv\", GS_DIR_FEATURES)\n",
    "\n",
    "print(\"df_val shape:\", df_val.shape)\n",
    "df_val.head()"
   ]
  },
  {
   "cell_type": "markdown",
   "id": "e15d210a-655e-461d-b762-ae13bf7b832f",
   "metadata": {},
   "source": [
    "#### Replace NaN with 0"
   ]
  },
  {
   "cell_type": "code",
   "execution_count": 5,
   "id": "30bdaec2-736b-4300-bfb2-900b48c70b77",
   "metadata": {},
   "outputs": [],
   "source": [
    "df_train = df_train.fillna(0)\n",
    "df_val = df_val.fillna(0)"
   ]
  },
  {
   "cell_type": "code",
   "execution_count": 6,
   "id": "24839df5-5255-451b-85b2-b3d7cf947f00",
   "metadata": {},
   "outputs": [
    {
     "name": "stdout",
     "output_type": "stream",
     "text": [
      "Number of NaN in df_train: 0\n",
      "Number of NaN in df_valn: 0\n"
     ]
    }
   ],
   "source": [
    "print(\"Number of NaN in df_train:\", df_train.isna().sum().sum())\n",
    "print(\"Number of NaN in df_valn:\", df_val.isna().sum().sum())"
   ]
  },
  {
   "cell_type": "markdown",
   "id": "e7341e7c-e4df-45bc-a0e2-a228f0d8e020",
   "metadata": {},
   "source": [
    "#### Create X and y objects to train"
   ]
  },
  {
   "cell_type": "code",
   "execution_count": 7,
   "id": "091c1c25-5937-4944-a34e-b21035f5b241",
   "metadata": {},
   "outputs": [
    {
     "name": "stdout",
     "output_type": "stream",
     "text": [
      "X_train shape: (3378606, 27)\n",
      "[[30. 18. 32. ...  0.  0.  0.]\n",
      " [34. 17. 34. ...  0.  0.  0.]\n",
      " [33. 16. 33. ...  0.  0.  0.]\n",
      " ...\n",
      " [34. 17. 34. ...  0.  0.  0.]\n",
      " [34. 17. 34. ...  0.  0.  0.]\n",
      " [35. 17. 36. ...  0.  0.  0.]]\n",
      "y_train shape: (3378606, 1)\n",
      "[[3.04767513]\n",
      " [4.41096552]\n",
      " [4.63954115]\n",
      " ...\n",
      " [5.06403876]\n",
      " [5.33615261]\n",
      " [5.4205079 ]]\n"
     ]
    }
   ],
   "source": [
    "X_train = df_train.drop([\"smiles\", \"homolumogap\"], axis=1).to_numpy()\n",
    "y_train = df_train[[\"homolumogap\"]].to_numpy()\n",
    "\n",
    "print(\"X_train shape:\", X_train.shape)\n",
    "print(X_train)\n",
    "\n",
    "print(\"y_train shape:\", y_train.shape)\n",
    "print(y_train)"
   ]
  },
  {
   "cell_type": "code",
   "execution_count": 8,
   "id": "17a30c1b-10c9-4bc6-9d5c-463c816b4f61",
   "metadata": {},
   "outputs": [
    {
     "name": "stdout",
     "output_type": "stream",
     "text": [
      "X_val shape: (73545, 27)\n",
      "[[32. 17. 32. ...  0.  0.  0.]\n",
      " [32. 17. 32. ...  0.  0.  0.]\n",
      " [32. 15. 33. ...  1.  0.  0.]\n",
      " ...\n",
      " [23. 13. 23. ...  0.  0.  0.]\n",
      " [ 8.  4.  7. ...  0.  2.  0.]\n",
      " [57. 34. 59. ...  0.  0.  0.]]\n",
      "y_val shape: (73545, 1)\n",
      "[[4.58783952]\n",
      " [4.97152005]\n",
      " [5.49669978]\n",
      " ...\n",
      " [4.95519322]\n",
      " [8.17974235]\n",
      " [3.3143467 ]]\n"
     ]
    }
   ],
   "source": [
    "X_val = df_val.drop([\"smiles\", \"homolumogap\"], axis=1).to_numpy()\n",
    "y_val = df_val[[\"homolumogap\"]].to_numpy()\n",
    "\n",
    "print(\"X_val shape:\", X_val.shape)\n",
    "print(X_val)\n",
    "\n",
    "print(\"y_val shape:\", y_val.shape)\n",
    "print(y_val)"
   ]
  },
  {
   "cell_type": "markdown",
   "id": "327035bd-34cc-4d06-b9c6-2aee19b3f0f8",
   "metadata": {},
   "source": [
    "#### Scale data with StandardScaler"
   ]
  },
  {
   "cell_type": "code",
   "execution_count": 9,
   "id": "313df5e0-31ee-4397-8feb-72cee7197978",
   "metadata": {},
   "outputs": [],
   "source": [
    "X_scaler = StandardScaler()\n",
    "y_scaler = StandardScaler()"
   ]
  },
  {
   "cell_type": "code",
   "execution_count": 10,
   "id": "c243f574-ebd2-460e-b2d2-93eac157ce15",
   "metadata": {},
   "outputs": [],
   "source": [
    "X_train = X_scaler.fit_transform(X_train)\n",
    "y_train = y_scaler.fit_transform(y_train)\n",
    "\n",
    "X_val = X_scaler.transform(X_val)\n",
    "y_val = y_scaler.transform(y_val)"
   ]
  },
  {
   "cell_type": "markdown",
   "id": "bf78094e-6d5f-4fc2-83dc-9340af15b330",
   "metadata": {},
   "source": [
    "#### Save scalers locally and to GCS"
   ]
  },
  {
   "cell_type": "code",
   "execution_count": 11,
   "id": "9f2a8936-104c-4a5b-bbc7-f5374770ac0d",
   "metadata": {},
   "outputs": [
    {
     "name": "stdout",
     "output_type": "stream",
     "text": [
      "Copying file://../../artifacts/sc_x_features.pkl [Content-Type=application/octet-stream]...\n",
      "/ [1 files][  1.2 KiB/  1.2 KiB]                                                \n",
      "Operation completed over 1 objects/1.2 KiB.                                      \n"
     ]
    }
   ],
   "source": [
    "with open(\"../../artifacts/sc_x_features.pkl\", \"wb\") as f:\n",
    "    pickle.dump(X_scaler, f)\n",
    "    \n",
    "!gsutil cp ../../artifacts/sc_x_features.pkl gs://pcqm4mv2/artifacts/sc_x_features.pkl"
   ]
  },
  {
   "cell_type": "code",
   "execution_count": 12,
   "id": "adf94d61-ddcd-461c-b5a7-cf23e89de433",
   "metadata": {},
   "outputs": [
    {
     "name": "stdout",
     "output_type": "stream",
     "text": [
      "Copying file://../../artifacts/sc_y.pkl [Content-Type=application/octet-stream]...\n",
      "/ [1 files][  559.0 B/  559.0 B]                                                \n",
      "Operation completed over 1 objects/559.0 B.                                      \n"
     ]
    }
   ],
   "source": [
    "with open(\"../../artifacts/sc_y.pkl\", \"wb\") as f:\n",
    "    pickle.dump(y_scaler, f)\n",
    "\n",
    "!gsutil cp ../../artifacts/sc_y.pkl gs://pcqm4mv2/artifacts/sc_y.pkl    "
   ]
  },
  {
   "cell_type": "markdown",
   "id": "3cb924ab-d5ec-487e-b846-79f866854930",
   "metadata": {},
   "source": [
    "#### Train Model"
   ]
  },
  {
   "cell_type": "markdown",
   "id": "c788b93e-4b35-46d8-99a3-e08d8e913204",
   "metadata": {},
   "source": [
    "##### Number of features to use in input shape"
   ]
  },
  {
   "cell_type": "code",
   "execution_count": 13,
   "id": "597d52c5-8c18-4f70-880e-29b5ea64bd0a",
   "metadata": {},
   "outputs": [
    {
     "data": {
      "text/plain": [
       "27"
      ]
     },
     "execution_count": 13,
     "metadata": {},
     "output_type": "execute_result"
    }
   ],
   "source": [
    "N_FEATURES = X_train.shape[1]\n",
    "N_FEATURES"
   ]
  },
  {
   "cell_type": "markdown",
   "id": "8d98a5d7-bdf3-49e7-a689-4b573f27d006",
   "metadata": {},
   "source": [
    "##### Function to create model given a set of hyperparameters"
   ]
  },
  {
   "cell_type": "code",
   "execution_count": 41,
   "id": "1d4a2e8b-a355-48cc-812f-645fb4f305ec",
   "metadata": {},
   "outputs": [],
   "source": [
    "def create_model(\n",
    "    n_hidden_layers=2, \n",
    "    n_neurons=64, \n",
    "    dropout_rate=0.1,\n",
    "    regularizer=\"l1_l2\",\n",
    "    input_shape=(N_FEATURES, )\n",
    "):\n",
    "    model = Sequential()\n",
    "    model.add(Dense(n_neurons, activation=\"relu\", input_shape=input_shape, kernel_regularizer=regularizer))\n",
    "    \n",
    "    for _ in range(n_hidden_layers-1):\n",
    "        model.add(Dropout(dropout_rate))\n",
    "        model.add(Dense(n_neurons, activation=\"relu\", kernel_regularizer=regularizer))\n",
    "    \n",
    "\n",
    "    model.add(Dropout(dropout_rate))\n",
    "    model.add(Dense(1, activation=\"linear\"))\n",
    "    model.compile(optimizer=\"adam\", loss=\"mae\")\n",
    "\n",
    "    return model"
   ]
  },
  {
   "cell_type": "markdown",
   "id": "c4140b5c-418c-4046-be07-ef6a0c64bda3",
   "metadata": {},
   "source": [
    "##### Create a KerasRegressor given a model function"
   ]
  },
  {
   "cell_type": "code",
   "execution_count": 42,
   "id": "2b2e2d1e-2cc2-4724-90f2-68a16e4c3eb2",
   "metadata": {},
   "outputs": [],
   "source": [
    "regressor = KerasRegressor(\n",
    "    model=create_model,\n",
    "    epochs=20,\n",
    "    batch_size=512,\n",
    "    verbose=0\n",
    ")"
   ]
  },
  {
   "cell_type": "markdown",
   "id": "f70011b8-85eb-405c-a848-a9580c7f00cf",
   "metadata": {},
   "source": [
    "##### Define params to search"
   ]
  },
  {
   "cell_type": "code",
   "execution_count": 43,
   "id": "c7d1cb5f-54c9-4ebb-8d1a-0ef54343c44b",
   "metadata": {},
   "outputs": [],
   "source": [
    "param_grid = {\n",
    "    \"model__n_neurons\": [64, 128],\n",
    "    \"model__n_hidden_layers\": [2, 4],\n",
    "    \"model__regularizer\": [None, \"l1_l2\"],\n",
    "    \"model__dropout_rate\": [0.1, 0.2],\n",
    "}"
   ]
  },
  {
   "cell_type": "markdown",
   "id": "9d012543-ef69-4c4d-8e3f-b5e2ccd24605",
   "metadata": {},
   "source": [
    "##### Instantiate a grid search to use all threads available"
   ]
  },
  {
   "cell_type": "code",
   "execution_count": 46,
   "id": "64b3464a-7c91-4cb6-b687-cfc344322810",
   "metadata": {},
   "outputs": [],
   "source": [
    "grid_search = GridSearchCV(\n",
    "    regressor,\n",
    "    param_grid,\n",
    "    scoring=\"neg_mean_absolute_error\",\n",
    "    cv=10,\n",
    "    verbose=0,\n",
    "    n_jobs=40\n",
    ")"
   ]
  },
  {
   "cell_type": "markdown",
   "id": "659fdcb3-ef6b-44a0-864e-cf51bf53992c",
   "metadata": {},
   "source": [
    "##### Start training"
   ]
  },
  {
   "cell_type": "code",
   "execution_count": 47,
   "id": "0fe97713-57f9-48c5-ae21-d04325721184",
   "metadata": {
    "tags": []
   },
   "outputs": [
    {
     "name": "stderr",
     "output_type": "stream",
     "text": [
      "2022-08-07 16:46:03.537850: I tensorflow/core/common_runtime/process_util.cc:146] Creating new thread pool with default inter op setting: 64. Tune using inter_op_parallelism_threads for best performance.\n",
      "2022-08-07 16:46:03.588905: I tensorflow/core/common_runtime/process_util.cc:146] Creating new thread pool with default inter op setting: 64. Tune using inter_op_parallelism_threads for best performance.\n",
      "2022-08-07 16:46:03.684965: I tensorflow/core/common_runtime/process_util.cc:146] Creating new thread pool with default inter op setting: 64. Tune using inter_op_parallelism_threads for best performance.\n",
      "2022-08-07 16:46:03.724724: I tensorflow/core/common_runtime/process_util.cc:146] Creating new thread pool with default inter op setting: 64. Tune using inter_op_parallelism_threads for best performance.\n",
      "2022-08-07 16:46:03.734399: I tensorflow/core/common_runtime/process_util.cc:146] Creating new thread pool with default inter op setting: 64. Tune using inter_op_parallelism_threads for best performance.\n",
      "2022-08-07 16:46:03.749967: I tensorflow/core/common_runtime/process_util.cc:146] Creating new thread pool with default inter op setting: 64. Tune using inter_op_parallelism_threads for best performance.\n",
      "2022-08-07 16:46:03.784807: I tensorflow/core/common_runtime/process_util.cc:146] Creating new thread pool with default inter op setting: 64. Tune using inter_op_parallelism_threads for best performance.\n",
      "2022-08-07 16:46:03.854199: I tensorflow/core/common_runtime/process_util.cc:146] Creating new thread pool with default inter op setting: 64. Tune using inter_op_parallelism_threads for best performance.\n",
      "2022-08-07 16:46:03.857758: I tensorflow/core/common_runtime/process_util.cc:146] Creating new thread pool with default inter op setting: 64. Tune using inter_op_parallelism_threads for best performance.\n",
      "2022-08-07 16:46:03.866038: I tensorflow/core/common_runtime/process_util.cc:146] Creating new thread pool with default inter op setting: 64. Tune using inter_op_parallelism_threads for best performance.\n",
      "2022-08-07 16:46:03.911305: I tensorflow/core/common_runtime/process_util.cc:146] Creating new thread pool with default inter op setting: 64. Tune using inter_op_parallelism_threads for best performance.\n",
      "2022-08-07 16:46:03.912019: I tensorflow/core/common_runtime/process_util.cc:146] Creating new thread pool with default inter op setting: 64. Tune using inter_op_parallelism_threads for best performance.\n",
      "2022-08-07 16:46:04.008794: I tensorflow/core/common_runtime/process_util.cc:146] Creating new thread pool with default inter op setting: 64. Tune using inter_op_parallelism_threads for best performance.\n",
      "2022-08-07 16:46:04.015701: I tensorflow/core/common_runtime/process_util.cc:146] Creating new thread pool with default inter op setting: 64. Tune using inter_op_parallelism_threads for best performance.\n",
      "2022-08-07 16:46:04.016703: I tensorflow/core/common_runtime/process_util.cc:146] Creating new thread pool with default inter op setting: 64. Tune using inter_op_parallelism_threads for best performance.\n",
      "2022-08-07 16:46:04.059751: I tensorflow/core/common_runtime/process_util.cc:146] Creating new thread pool with default inter op setting: 64. Tune using inter_op_parallelism_threads for best performance.\n",
      "2022-08-07 16:46:04.104749: I tensorflow/core/common_runtime/process_util.cc:146] Creating new thread pool with default inter op setting: 64. Tune using inter_op_parallelism_threads for best performance.\n",
      "2022-08-07 16:46:04.178812: I tensorflow/core/common_runtime/process_util.cc:146] Creating new thread pool with default inter op setting: 64. Tune using inter_op_parallelism_threads for best performance.\n",
      "2022-08-07 16:46:04.271695: I tensorflow/core/common_runtime/process_util.cc:146] Creating new thread pool with default inter op setting: 64. Tune using inter_op_parallelism_threads for best performance.\n",
      "2022-08-07 16:46:04.305065: I tensorflow/core/common_runtime/process_util.cc:146] Creating new thread pool with default inter op setting: 64. Tune using inter_op_parallelism_threads for best performance.\n",
      "2022-08-07 16:46:04.474527: I tensorflow/core/common_runtime/process_util.cc:146] Creating new thread pool with default inter op setting: 64. Tune using inter_op_parallelism_threads for best performance.\n",
      "2022-08-07 16:46:04.638046: I tensorflow/core/common_runtime/process_util.cc:146] Creating new thread pool with default inter op setting: 64. Tune using inter_op_parallelism_threads for best performance.\n",
      "2022-08-07 16:46:05.294399: I tensorflow/core/common_runtime/process_util.cc:146] Creating new thread pool with default inter op setting: 64. Tune using inter_op_parallelism_threads for best performance.\n",
      "2022-08-07 16:46:05.400616: I tensorflow/core/common_runtime/process_util.cc:146] Creating new thread pool with default inter op setting: 64. Tune using inter_op_parallelism_threads for best performance.\n",
      "2022-08-07 16:46:05.462679: I tensorflow/core/common_runtime/process_util.cc:146] Creating new thread pool with default inter op setting: 64. Tune using inter_op_parallelism_threads for best performance.\n",
      "2022-08-07 16:46:05.519308: I tensorflow/core/common_runtime/process_util.cc:146] Creating new thread pool with default inter op setting: 64. Tune using inter_op_parallelism_threads for best performance.\n",
      "2022-08-07 16:46:05.545702: I tensorflow/core/common_runtime/process_util.cc:146] Creating new thread pool with default inter op setting: 64. Tune using inter_op_parallelism_threads for best performance.\n",
      "2022-08-07 16:46:05.555673: I tensorflow/core/common_runtime/process_util.cc:146] Creating new thread pool with default inter op setting: 64. Tune using inter_op_parallelism_threads for best performance.\n",
      "2022-08-07 16:46:05.566705: I tensorflow/core/common_runtime/process_util.cc:146] Creating new thread pool with default inter op setting: 64. Tune using inter_op_parallelism_threads for best performance.\n",
      "2022-08-07 16:46:05.898232: I tensorflow/core/common_runtime/process_util.cc:146] Creating new thread pool with default inter op setting: 64. Tune using inter_op_parallelism_threads for best performance.\n",
      "2022-08-07 16:46:05.921755: I tensorflow/core/common_runtime/process_util.cc:146] Creating new thread pool with default inter op setting: 64. Tune using inter_op_parallelism_threads for best performance.\n",
      "2022-08-07 16:46:05.944567: I tensorflow/core/common_runtime/process_util.cc:146] Creating new thread pool with default inter op setting: 64. Tune using inter_op_parallelism_threads for best performance.\n",
      "2022-08-07 16:46:06.073360: I tensorflow/core/common_runtime/process_util.cc:146] Creating new thread pool with default inter op setting: 64. Tune using inter_op_parallelism_threads for best performance.\n",
      "2022-08-07 16:46:06.145956: I tensorflow/core/common_runtime/process_util.cc:146] Creating new thread pool with default inter op setting: 64. Tune using inter_op_parallelism_threads for best performance.\n",
      "2022-08-07 16:46:06.395180: I tensorflow/core/common_runtime/process_util.cc:146] Creating new thread pool with default inter op setting: 64. Tune using inter_op_parallelism_threads for best performance.\n",
      "2022-08-07 16:46:06.464127: I tensorflow/core/common_runtime/process_util.cc:146] Creating new thread pool with default inter op setting: 64. Tune using inter_op_parallelism_threads for best performance.\n",
      "2022-08-07 16:46:06.549995: I tensorflow/core/common_runtime/process_util.cc:146] Creating new thread pool with default inter op setting: 64. Tune using inter_op_parallelism_threads for best performance.\n",
      "2022-08-07 16:46:06.609433: I tensorflow/core/common_runtime/process_util.cc:146] Creating new thread pool with default inter op setting: 64. Tune using inter_op_parallelism_threads for best performance.\n",
      "2022-08-07 16:46:06.673536: I tensorflow/core/common_runtime/process_util.cc:146] Creating new thread pool with default inter op setting: 64. Tune using inter_op_parallelism_threads for best performance.\n",
      "2022-08-07 16:46:06.689452: I tensorflow/core/common_runtime/process_util.cc:146] Creating new thread pool with default inter op setting: 64. Tune using inter_op_parallelism_threads for best performance.\n",
      "2022-08-07 17:34:37.617983: I tensorflow/core/common_runtime/process_util.cc:146] Creating new thread pool with default inter op setting: 64. Tune using inter_op_parallelism_threads for best performance.\n",
      "2022-08-07 17:35:08.761963: I tensorflow/core/common_runtime/process_util.cc:146] Creating new thread pool with default inter op setting: 64. Tune using inter_op_parallelism_threads for best performance.\n",
      "2022-08-07 17:35:35.145964: I tensorflow/core/common_runtime/process_util.cc:146] Creating new thread pool with default inter op setting: 64. Tune using inter_op_parallelism_threads for best performance.\n",
      "2022-08-07 17:35:42.735296: I tensorflow/core/common_runtime/process_util.cc:146] Creating new thread pool with default inter op setting: 64. Tune using inter_op_parallelism_threads for best performance.\n",
      "2022-08-07 17:35:52.039510: I tensorflow/core/common_runtime/process_util.cc:146] Creating new thread pool with default inter op setting: 64. Tune using inter_op_parallelism_threads for best performance.\n",
      "2022-08-07 17:36:15.926699: I tensorflow/core/common_runtime/process_util.cc:146] Creating new thread pool with default inter op setting: 64. Tune using inter_op_parallelism_threads for best performance.\n",
      "2022-08-07 17:36:30.868309: I tensorflow/core/common_runtime/process_util.cc:146] Creating new thread pool with default inter op setting: 64. Tune using inter_op_parallelism_threads for best performance.\n",
      "2022-08-07 17:36:34.319243: I tensorflow/core/common_runtime/process_util.cc:146] Creating new thread pool with default inter op setting: 64. Tune using inter_op_parallelism_threads for best performance.\n",
      "2022-08-07 17:36:37.198158: I tensorflow/core/common_runtime/process_util.cc:146] Creating new thread pool with default inter op setting: 64. Tune using inter_op_parallelism_threads for best performance.\n",
      "2022-08-07 17:36:37.762372: I tensorflow/core/common_runtime/process_util.cc:146] Creating new thread pool with default inter op setting: 64. Tune using inter_op_parallelism_threads for best performance.\n",
      "2022-08-07 17:36:38.117097: I tensorflow/core/common_runtime/process_util.cc:146] Creating new thread pool with default inter op setting: 64. Tune using inter_op_parallelism_threads for best performance.\n",
      "2022-08-07 17:36:39.961053: I tensorflow/core/common_runtime/process_util.cc:146] Creating new thread pool with default inter op setting: 64. Tune using inter_op_parallelism_threads for best performance.\n",
      "2022-08-07 17:36:41.354529: I tensorflow/core/common_runtime/process_util.cc:146] Creating new thread pool with default inter op setting: 64. Tune using inter_op_parallelism_threads for best performance.\n",
      "2022-08-07 17:36:57.113454: I tensorflow/core/common_runtime/process_util.cc:146] Creating new thread pool with default inter op setting: 64. Tune using inter_op_parallelism_threads for best performance.\n",
      "2022-08-07 17:37:05.730024: I tensorflow/core/common_runtime/process_util.cc:146] Creating new thread pool with default inter op setting: 64. Tune using inter_op_parallelism_threads for best performance.\n",
      "2022-08-07 17:37:09.743187: I tensorflow/core/common_runtime/process_util.cc:146] Creating new thread pool with default inter op setting: 64. Tune using inter_op_parallelism_threads for best performance.\n",
      "2022-08-07 17:37:17.818114: I tensorflow/core/common_runtime/process_util.cc:146] Creating new thread pool with default inter op setting: 64. Tune using inter_op_parallelism_threads for best performance.\n",
      "2022-08-07 17:37:23.393411: I tensorflow/core/common_runtime/process_util.cc:146] Creating new thread pool with default inter op setting: 64. Tune using inter_op_parallelism_threads for best performance.\n",
      "2022-08-07 17:37:33.499182: I tensorflow/core/common_runtime/process_util.cc:146] Creating new thread pool with default inter op setting: 64. Tune using inter_op_parallelism_threads for best performance.\n",
      "2022-08-07 17:37:39.739700: I tensorflow/core/common_runtime/process_util.cc:146] Creating new thread pool with default inter op setting: 64. Tune using inter_op_parallelism_threads for best performance.\n"
     ]
    }
   ],
   "source": [
    "np.random.seed(2912)\n",
    "grid_result = grid_search.fit(X_train, y_train)"
   ]
  },
  {
   "cell_type": "markdown",
   "id": "e976aea2-873c-464b-82c6-1e59ae95f095",
   "metadata": {},
   "source": [
    "#### Saving Grid Result to GCS"
   ]
  },
  {
   "cell_type": "code",
   "execution_count": 48,
   "id": "305e421e-a827-4804-84dc-8089bf7762e8",
   "metadata": {},
   "outputs": [
    {
     "name": "stdout",
     "output_type": "stream",
     "text": [
      "INFO:tensorflow:Assets written to: ram:///tmp/tmphetf4bjb/assets\n",
      "Copying file://../../artifacts/gs_result_3.pkl [Content-Type=application/octet-stream]...\n",
      "/ [1 files][  1.2 MiB/  1.2 MiB]                                                \n",
      "Operation completed over 1 objects/1.2 MiB.                                      \n"
     ]
    }
   ],
   "source": [
    "with open(\"../../artifacts/gs_result_3.pkl\", \"wb\") as f:\n",
    "    pickle.dump(grid_result, f)\n",
    "\n",
    "!gsutil cp ../../artifacts/gs_result_3.pkl gs://pcqm4mv2/artifacts/gs_result_3.pkl   "
   ]
  },
  {
   "cell_type": "markdown",
   "id": "4b335b48-7d83-4183-8676-fa6c6f9497d2",
   "metadata": {},
   "source": [
    "#### Evaluating best regressor"
   ]
  },
  {
   "cell_type": "code",
   "execution_count": 49,
   "id": "3228497d-9065-4b9d-86de-649147e2f15c",
   "metadata": {},
   "outputs": [
    {
     "name": "stdout",
     "output_type": "stream",
     "text": [
      "GridSearch results:\n"
     ]
    },
    {
     "data": {
      "text/plain": [
       "{'mean_fit_time': array([ 842.19102142,  805.4865042 , 1168.96053147, 1084.15826707,\n",
       "        1417.26893034, 1287.35708599, 2156.14392848, 2039.04587224,\n",
       "         850.29091148,  821.27375317, 1220.47196572, 1152.03239684,\n",
       "        1389.88028336, 1255.14958854, 1530.55378506, 1447.71976225]),\n",
       " 'std_fit_time': array([28.87153871, 21.50327974, 19.79048083, 25.76930084, 25.41154491,\n",
       "        34.90940895, 21.46448606, 52.53145713, 22.00060757, 30.96187004,\n",
       "         9.6577917 , 54.66892178, 22.87852965, 30.84251406, 12.27536237,\n",
       "        14.29344787]),\n",
       " 'mean_score_time': array([2.56732798, 2.52635987, 2.80017965, 2.86503687, 2.61958685,\n",
       "        2.68547595, 4.59059575, 4.87168934, 2.5983675 , 2.52646902,\n",
       "        2.6525651 , 2.61011147, 2.2585463 , 2.53188741, 2.01005821,\n",
       "        1.86654816]),\n",
       " 'std_score_time': array([0.43169454, 0.47565607, 0.19535465, 0.03375191, 0.32009729,\n",
       "        0.24955483, 0.98353646, 0.82884232, 0.41768965, 0.41721163,\n",
       "        0.24998725, 0.25952489, 0.44859321, 0.36666351, 0.40318374,\n",
       "        0.47906852]),\n",
       " 'param_model__dropout_rate': masked_array(data=[0.1, 0.1, 0.1, 0.1, 0.1, 0.1, 0.1, 0.1, 0.2, 0.2, 0.2,\n",
       "                    0.2, 0.2, 0.2, 0.2, 0.2],\n",
       "              mask=[False, False, False, False, False, False, False, False,\n",
       "                    False, False, False, False, False, False, False, False],\n",
       "        fill_value='?',\n",
       "             dtype=object),\n",
       " 'param_model__n_hidden_layers': masked_array(data=[2, 2, 2, 2, 4, 4, 4, 4, 2, 2, 2, 2, 4, 4, 4, 4],\n",
       "              mask=[False, False, False, False, False, False, False, False,\n",
       "                    False, False, False, False, False, False, False, False],\n",
       "        fill_value='?',\n",
       "             dtype=object),\n",
       " 'param_model__n_neurons': masked_array(data=[64, 64, 128, 128, 64, 64, 128, 128, 64, 64, 128, 128,\n",
       "                    64, 64, 128, 128],\n",
       "              mask=[False, False, False, False, False, False, False, False,\n",
       "                    False, False, False, False, False, False, False, False],\n",
       "        fill_value='?',\n",
       "             dtype=object),\n",
       " 'param_model__regularizer': masked_array(data=[None, 'l1_l2', None, 'l1_l2', None, 'l1_l2', None,\n",
       "                    'l1_l2', None, 'l1_l2', None, 'l1_l2', None, 'l1_l2',\n",
       "                    None, 'l1_l2'],\n",
       "              mask=[False, False, False, False, False, False, False, False,\n",
       "                    False, False, False, False, False, False, False, False],\n",
       "        fill_value='?',\n",
       "             dtype=object),\n",
       " 'params': [{'model__dropout_rate': 0.1,\n",
       "   'model__n_hidden_layers': 2,\n",
       "   'model__n_neurons': 64,\n",
       "   'model__regularizer': None},\n",
       "  {'model__dropout_rate': 0.1,\n",
       "   'model__n_hidden_layers': 2,\n",
       "   'model__n_neurons': 64,\n",
       "   'model__regularizer': 'l1_l2'},\n",
       "  {'model__dropout_rate': 0.1,\n",
       "   'model__n_hidden_layers': 2,\n",
       "   'model__n_neurons': 128,\n",
       "   'model__regularizer': None},\n",
       "  {'model__dropout_rate': 0.1,\n",
       "   'model__n_hidden_layers': 2,\n",
       "   'model__n_neurons': 128,\n",
       "   'model__regularizer': 'l1_l2'},\n",
       "  {'model__dropout_rate': 0.1,\n",
       "   'model__n_hidden_layers': 4,\n",
       "   'model__n_neurons': 64,\n",
       "   'model__regularizer': None},\n",
       "  {'model__dropout_rate': 0.1,\n",
       "   'model__n_hidden_layers': 4,\n",
       "   'model__n_neurons': 64,\n",
       "   'model__regularizer': 'l1_l2'},\n",
       "  {'model__dropout_rate': 0.1,\n",
       "   'model__n_hidden_layers': 4,\n",
       "   'model__n_neurons': 128,\n",
       "   'model__regularizer': None},\n",
       "  {'model__dropout_rate': 0.1,\n",
       "   'model__n_hidden_layers': 4,\n",
       "   'model__n_neurons': 128,\n",
       "   'model__regularizer': 'l1_l2'},\n",
       "  {'model__dropout_rate': 0.2,\n",
       "   'model__n_hidden_layers': 2,\n",
       "   'model__n_neurons': 64,\n",
       "   'model__regularizer': None},\n",
       "  {'model__dropout_rate': 0.2,\n",
       "   'model__n_hidden_layers': 2,\n",
       "   'model__n_neurons': 64,\n",
       "   'model__regularizer': 'l1_l2'},\n",
       "  {'model__dropout_rate': 0.2,\n",
       "   'model__n_hidden_layers': 2,\n",
       "   'model__n_neurons': 128,\n",
       "   'model__regularizer': None},\n",
       "  {'model__dropout_rate': 0.2,\n",
       "   'model__n_hidden_layers': 2,\n",
       "   'model__n_neurons': 128,\n",
       "   'model__regularizer': 'l1_l2'},\n",
       "  {'model__dropout_rate': 0.2,\n",
       "   'model__n_hidden_layers': 4,\n",
       "   'model__n_neurons': 64,\n",
       "   'model__regularizer': None},\n",
       "  {'model__dropout_rate': 0.2,\n",
       "   'model__n_hidden_layers': 4,\n",
       "   'model__n_neurons': 64,\n",
       "   'model__regularizer': 'l1_l2'},\n",
       "  {'model__dropout_rate': 0.2,\n",
       "   'model__n_hidden_layers': 4,\n",
       "   'model__n_neurons': 128,\n",
       "   'model__regularizer': None},\n",
       "  {'model__dropout_rate': 0.2,\n",
       "   'model__n_hidden_layers': 4,\n",
       "   'model__n_neurons': 128,\n",
       "   'model__regularizer': 'l1_l2'}],\n",
       " 'split0_test_score': array([-0.42610618, -0.50587742, -0.40847357, -0.51771017, -0.43516232,\n",
       "        -0.81810129, -0.40290928, -0.81579173, -0.45215853, -0.51375373,\n",
       "        -0.41928778, -0.57428761, -0.46917392, -0.81691628, -0.41536955,\n",
       "        -0.81684418]),\n",
       " 'split1_test_score': array([-0.33612608, -0.4719984 , -0.31823936, -0.45562052, -0.33793126,\n",
       "        -0.75497149, -0.30635188, -0.75484341, -0.35717231, -0.52257707,\n",
       "        -0.33271855, -0.4740467 , -0.36377395, -0.75480659, -0.32255939,\n",
       "        -0.75491017]),\n",
       " 'split2_test_score': array([-0.29010717, -0.45352712, -0.26845366, -0.39308323, -0.28087773,\n",
       "        -0.79484972, -0.25092688, -0.79068487, -0.31698153, -0.4048871 ,\n",
       "        -0.29809066, -0.3979932 , -0.30923442, -0.79681236, -0.26545107,\n",
       "        -0.79184986]),\n",
       " 'split3_test_score': array([-0.3028856 , -0.40407753, -0.27917114, -0.43661228, -0.28507091,\n",
       "        -0.72926332, -0.2551235 , -0.72873901, -0.31461482, -0.47570808,\n",
       "        -0.29577245, -0.5113556 , -0.31995384, -0.72901126, -0.26880582,\n",
       "        -0.7292164 ]),\n",
       " 'split4_test_score': array([-0.30562755, -0.4193963 , -0.28484841, -0.42727596, -0.30058904,\n",
       "        -0.719236  , -0.27057288, -0.71743502, -0.3308907 , -0.45525761,\n",
       "        -0.29949089, -0.50611184, -0.33518756, -0.71744594, -0.28764605,\n",
       "        -0.71741583]),\n",
       " 'split5_test_score': array([-0.36617687, -0.49025383, -0.34782883, -0.49563149, -0.37621267,\n",
       "        -0.84343659, -0.3352297 , -0.84359583, -0.39005465, -0.51100867,\n",
       "        -0.36518803, -0.54880434, -0.39617701, -0.84359223, -0.35977189,\n",
       "        -0.84350919]),\n",
       " 'split6_test_score': array([-0.36459308, -0.46101871, -0.3420452 , -0.45983193, -0.358559  ,\n",
       "        -0.74917244, -0.32715422, -0.74839746, -0.38298172, -0.46163371,\n",
       "        -0.35653567, -0.49315994, -0.38445994, -0.74849792, -0.34038592,\n",
       "        -0.74879906]),\n",
       " 'split7_test_score': array([-0.35166783, -0.4489834 , -0.32719031, -0.46057258, -0.34282943,\n",
       "        -0.75819527, -0.31436897, -0.75753439, -0.36564808, -0.45207459,\n",
       "        -0.34376863, -0.50178105, -0.38301173, -0.75782046, -0.33123323,\n",
       "        -0.75713111]),\n",
       " 'split8_test_score': array([-0.38149431, -0.49258528, -0.35604771, -0.4946111 , -0.38041368,\n",
       "        -0.81599535, -0.34053455, -0.81519104, -0.40205518, -0.54146287,\n",
       "        -0.37369354, -0.52267087, -0.40687059, -0.8157785 , -0.36160255,\n",
       "        -0.81582706]),\n",
       " 'split9_test_score': array([-0.38086271, -0.5034208 , -0.35943872, -0.5001729 , -0.37492994,\n",
       "        -0.81037942, -0.34373936, -0.81090641, -0.40413285, -0.5104744 ,\n",
       "        -0.3732819 , -0.53292124, -0.41596642, -0.81113021, -0.36734168,\n",
       "        -0.81080164]),\n",
       " 'mean_test_score': array([-0.35056474, -0.46511388, -0.32917369, -0.46411222, -0.3472576 ,\n",
       "        -0.77936009, -0.31469112, -0.77831192, -0.37166904, -0.48488378,\n",
       "        -0.34578281, -0.50631324, -0.37838094, -0.77918118, -0.33201671,\n",
       "        -0.77863045]),\n",
       " 'std_test_score': array([0.04022326, 0.03284802, 0.0408849 , 0.03654859, 0.04595265,\n",
       "        0.04028596, 0.04416054, 0.04035233, 0.04132429, 0.039713  ,\n",
       "        0.03810988, 0.04516076, 0.04595301, 0.04069866, 0.04516268,\n",
       "        0.04045569]),\n",
       " 'rank_test_score': array([ 6, 10,  2,  9,  5, 16,  1, 13,  7, 11,  4, 12,  8, 15,  3, 14],\n",
       "       dtype=int32)}"
      ]
     },
     "execution_count": 49,
     "metadata": {},
     "output_type": "execute_result"
    }
   ],
   "source": [
    "print(\"GridSearch results:\")\n",
    "grid_search.cv_results_"
   ]
  },
  {
   "cell_type": "code",
   "execution_count": 50,
   "id": "09213f96-360f-417a-b2ab-ecce202c2356",
   "metadata": {},
   "outputs": [
    {
     "data": {
      "text/plain": [
       "-0.3146911222185909"
      ]
     },
     "execution_count": 50,
     "metadata": {},
     "output_type": "execute_result"
    }
   ],
   "source": [
    "grid_search.best_score_"
   ]
  },
  {
   "cell_type": "code",
   "execution_count": 51,
   "id": "6b7992b7-833b-488f-ad12-ccfa686a0596",
   "metadata": {},
   "outputs": [
    {
     "data": {
      "text/plain": [
       "{'model__dropout_rate': 0.1,\n",
       " 'model__n_hidden_layers': 4,\n",
       " 'model__n_neurons': 128,\n",
       " 'model__regularizer': None}"
      ]
     },
     "execution_count": 51,
     "metadata": {},
     "output_type": "execute_result"
    }
   ],
   "source": [
    "grid_search.best_params_"
   ]
  },
  {
   "cell_type": "code",
   "execution_count": 52,
   "id": "2627efcc-620d-496c-bcf8-cf9eab25113b",
   "metadata": {},
   "outputs": [],
   "source": [
    "best_regressor = grid_result.best_estimator_"
   ]
  },
  {
   "cell_type": "code",
   "execution_count": 53,
   "id": "bb10f736-fcae-4972-a019-69459009a98f",
   "metadata": {},
   "outputs": [
    {
     "name": "stdout",
     "output_type": "stream",
     "text": [
      "Hyperparameters of best regressor: KerasRegressor(\n",
      "\tmodel=<function create_model at 0x7fcd4f77e710>\n",
      "\tbuild_fn=None\n",
      "\twarm_start=False\n",
      "\trandom_state=None\n",
      "\toptimizer=rmsprop\n",
      "\tloss=None\n",
      "\tmetrics=None\n",
      "\tbatch_size=512\n",
      "\tvalidation_batch_size=None\n",
      "\tverbose=0\n",
      "\tcallbacks=None\n",
      "\tvalidation_split=0.0\n",
      "\tshuffle=True\n",
      "\trun_eagerly=False\n",
      "\tepochs=20\n",
      "\tmodel__dropout_rate=0.1\n",
      "\tmodel__n_hidden_layers=4\n",
      "\tmodel__n_neurons=128\n",
      "\tmodel__regularizer=None\n",
      ")\n"
     ]
    }
   ],
   "source": [
    "print(\"Hyperparameters of best regressor:\", best_regressor)"
   ]
  },
  {
   "cell_type": "code",
   "execution_count": 54,
   "id": "a99ad4b6-14e6-478c-87a4-7ad027b80245",
   "metadata": {},
   "outputs": [
    {
     "name": "stdout",
     "output_type": "stream",
     "text": [
      "Model: \"sequential_1\"\n",
      "_________________________________________________________________\n",
      " Layer (type)                Output Shape              Param #   \n",
      "=================================================================\n",
      " dense_3 (Dense)             (None, 128)               3584      \n",
      "                                                                 \n",
      " dropout_2 (Dropout)         (None, 128)               0         \n",
      "                                                                 \n",
      " dense_4 (Dense)             (None, 128)               16512     \n",
      "                                                                 \n",
      " dropout_3 (Dropout)         (None, 128)               0         \n",
      "                                                                 \n",
      " dense_5 (Dense)             (None, 128)               16512     \n",
      "                                                                 \n",
      " dropout_4 (Dropout)         (None, 128)               0         \n",
      "                                                                 \n",
      " dense_6 (Dense)             (None, 128)               16512     \n",
      "                                                                 \n",
      " dropout_5 (Dropout)         (None, 128)               0         \n",
      "                                                                 \n",
      " dense_7 (Dense)             (None, 1)                 129       \n",
      "                                                                 \n",
      "=================================================================\n",
      "Total params: 53,249\n",
      "Trainable params: 53,249\n",
      "Non-trainable params: 0\n",
      "_________________________________________________________________\n"
     ]
    }
   ],
   "source": [
    "best_regressor.model_.summary()"
   ]
  },
  {
   "cell_type": "markdown",
   "id": "9037d511-ee20-469e-9bbc-e0d2e1f6531e",
   "metadata": {},
   "source": [
    "#### Get MAE for validation set"
   ]
  },
  {
   "cell_type": "code",
   "execution_count": 55,
   "id": "499d9ec9-ad6e-4154-be4d-aecb406c9e4f",
   "metadata": {},
   "outputs": [
    {
     "data": {
      "text/plain": [
       "array([[-0.62006897],\n",
       "       [-0.62006897],\n",
       "       [-0.6222135 ],\n",
       "       ...,\n",
       "       [ 0.02568208],\n",
       "       [ 1.7986993 ],\n",
       "       [-1.3419119 ]], dtype=float32)"
      ]
     },
     "execution_count": 55,
     "metadata": {},
     "output_type": "execute_result"
    }
   ],
   "source": [
    "y_val_pred = best_regressor.model_.predict(X_val)\n",
    "y_val_pred"
   ]
  },
  {
   "cell_type": "code",
   "execution_count": 56,
   "id": "0762485a-d1a6-4081-810c-04781948df11",
   "metadata": {},
   "outputs": [],
   "source": [
    "y_val_inv = y_scaler.inverse_transform(y_val)\n",
    "y_val_pred_inv = y_scaler.inverse_transform(y_val_pred)"
   ]
  },
  {
   "cell_type": "code",
   "execution_count": 57,
   "id": "ef271640-0e37-4a83-9f5b-830219f3f4d6",
   "metadata": {},
   "outputs": [
    {
     "name": "stdout",
     "output_type": "stream",
     "text": [
      "MAE Result: 0.41502494412402685\n"
     ]
    }
   ],
   "source": [
    "mae_result = mean_absolute_error(y_val_inv, y_val_pred_inv)\n",
    "print(\"MAE Result:\", mae_result)"
   ]
  }
 ],
 "metadata": {
  "environment": {
   "kernel": "python3",
   "name": "tf2-gpu.2-8.m94",
   "type": "gcloud",
   "uri": "gcr.io/deeplearning-platform-release/tf2-gpu.2-8:m94"
  },
  "kernelspec": {
   "display_name": "Python 3",
   "language": "python",
   "name": "python3"
  },
  "language_info": {
   "codemirror_mode": {
    "name": "ipython",
    "version": 3
   },
   "file_extension": ".py",
   "mimetype": "text/x-python",
   "name": "python",
   "nbconvert_exporter": "python",
   "pygments_lexer": "ipython3",
   "version": "3.7.12"
  }
 },
 "nbformat": 4,
 "nbformat_minor": 5
}
