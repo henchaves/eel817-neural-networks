{
 "cells": [
  {
   "cell_type": "markdown",
   "id": "7cead936-d869-4989-ab2e-2fabe6e9091e",
   "metadata": {},
   "source": [
    "#### Import required libs"
   ]
  },
  {
   "cell_type": "code",
   "execution_count": 1,
   "id": "6e4cf3e3-6a0d-486c-a259-49d5c4eea526",
   "metadata": {},
   "outputs": [],
   "source": [
    "import sys\n",
    "sys.path.append('/home/jupyter/app')\n",
    "\n",
    "import numpy as np\n",
    "import pandas as pd\n",
    "\n",
    "from sklearn.metrics import mean_absolute_error\n",
    "\n",
    "from src.io_utils import load_dataframe"
   ]
  },
  {
   "cell_type": "markdown",
   "id": "81d2e54a-0a01-4a74-8964-be9f2bd556d4",
   "metadata": {
    "tags": []
   },
   "source": [
    "#### Define constants"
   ]
  },
  {
   "cell_type": "code",
   "execution_count": 2,
   "id": "5986affb-d619-4865-97c8-87dbbd3c1021",
   "metadata": {},
   "outputs": [],
   "source": [
    "GS_DIR = \"gs://pcqm4mv2/data/raw\"\n",
    "TARGET = \"homolumogap\""
   ]
  },
  {
   "cell_type": "markdown",
   "id": "582fa82a-8fcf-486b-8067-a4bcff90711b",
   "metadata": {},
   "source": [
    "#### Load train set"
   ]
  },
  {
   "cell_type": "code",
   "execution_count": 3,
   "id": "f9269fde-be9d-498a-b9bf-f03d98eae1ba",
   "metadata": {},
   "outputs": [
    {
     "name": "stdout",
     "output_type": "stream",
     "text": [
      "df_train shape: (3378606, 2)\n"
     ]
    },
    {
     "name": "stderr",
     "output_type": "stream",
     "text": [
      "/opt/conda/lib/python3.7/site-packages/numpy/lib/arraysetops.py:580: FutureWarning: elementwise comparison failed; returning scalar instead, but in the future will perform elementwise comparison\n",
      "  mask |= (ar1 == a)\n"
     ]
    },
    {
     "data": {
      "text/html": [
       "<div>\n",
       "<style scoped>\n",
       "    .dataframe tbody tr th:only-of-type {\n",
       "        vertical-align: middle;\n",
       "    }\n",
       "\n",
       "    .dataframe tbody tr th {\n",
       "        vertical-align: top;\n",
       "    }\n",
       "\n",
       "    .dataframe thead th {\n",
       "        text-align: right;\n",
       "    }\n",
       "</style>\n",
       "<table border=\"1\" class=\"dataframe\">\n",
       "  <thead>\n",
       "    <tr style=\"text-align: right;\">\n",
       "      <th></th>\n",
       "      <th>smiles</th>\n",
       "      <th>homolumogap</th>\n",
       "    </tr>\n",
       "    <tr>\n",
       "      <th>idx</th>\n",
       "      <th></th>\n",
       "      <th></th>\n",
       "    </tr>\n",
       "  </thead>\n",
       "  <tbody>\n",
       "    <tr>\n",
       "      <th>0</th>\n",
       "      <td>O=C1[N]c2ccncc2[CH][C@@H]1c1ccc(cc1)C</td>\n",
       "      <td>3.047675</td>\n",
       "    </tr>\n",
       "    <tr>\n",
       "      <th>1</th>\n",
       "      <td>COc1cc(OC)ccc1/C=C/N(C(=O)C)C</td>\n",
       "      <td>4.410966</td>\n",
       "    </tr>\n",
       "    <tr>\n",
       "      <th>2</th>\n",
       "      <td>C=CCN(C(=O)C)/C=C/c1ccccc1C</td>\n",
       "      <td>4.639541</td>\n",
       "    </tr>\n",
       "    <tr>\n",
       "      <th>3</th>\n",
       "      <td>C=CCN(C(=O)C)/C=C/c1ccccc1F</td>\n",
       "      <td>4.492600</td>\n",
       "    </tr>\n",
       "    <tr>\n",
       "      <th>4</th>\n",
       "      <td>C=CCN(C(=O)C)/C=C/c1ccccc1Cl</td>\n",
       "      <td>4.612330</td>\n",
       "    </tr>\n",
       "  </tbody>\n",
       "</table>\n",
       "</div>"
      ],
      "text/plain": [
       "                                    smiles  homolumogap\n",
       "idx                                                    \n",
       "0    O=C1[N]c2ccncc2[CH][C@@H]1c1ccc(cc1)C     3.047675\n",
       "1            COc1cc(OC)ccc1/C=C/N(C(=O)C)C     4.410966\n",
       "2              C=CCN(C(=O)C)/C=C/c1ccccc1C     4.639541\n",
       "3              C=CCN(C(=O)C)/C=C/c1ccccc1F     4.492600\n",
       "4             C=CCN(C(=O)C)/C=C/c1ccccc1Cl     4.612330"
      ]
     },
     "execution_count": 3,
     "metadata": {},
     "output_type": "execute_result"
    }
   ],
   "source": [
    "df_train = load_dataframe(\"train.csv\", GS_DIR)\n",
    "\n",
    "print(\"df_train shape:\", df_train.shape)\n",
    "df_train.head()"
   ]
  },
  {
   "cell_type": "code",
   "execution_count": 4,
   "id": "04a75eda-edd8-4f8f-9e88-97181fb97a49",
   "metadata": {},
   "outputs": [
    {
     "name": "stdout",
     "output_type": "stream",
     "text": [
      "<class 'pandas.core.frame.DataFrame'>\n",
      "Int64Index: 3378606 entries, 0 to 3378605\n",
      "Data columns (total 2 columns):\n",
      " #   Column       Dtype  \n",
      "---  ------       -----  \n",
      " 0   smiles       object \n",
      " 1   homolumogap  float64\n",
      "dtypes: float64(1), object(1)\n",
      "memory usage: 77.3+ MB\n"
     ]
    }
   ],
   "source": [
    "df_train.info()"
   ]
  },
  {
   "cell_type": "markdown",
   "id": "00368a21-b524-42d1-bddf-62edce368e38",
   "metadata": {},
   "source": [
    "#### Load validation set"
   ]
  },
  {
   "cell_type": "code",
   "execution_count": 5,
   "id": "2e7fd5b1-48db-46a9-98eb-c1635ede8f68",
   "metadata": {},
   "outputs": [
    {
     "name": "stdout",
     "output_type": "stream",
     "text": [
      "df_val shape: (73545, 2)\n"
     ]
    },
    {
     "data": {
      "text/html": [
       "<div>\n",
       "<style scoped>\n",
       "    .dataframe tbody tr th:only-of-type {\n",
       "        vertical-align: middle;\n",
       "    }\n",
       "\n",
       "    .dataframe tbody tr th {\n",
       "        vertical-align: top;\n",
       "    }\n",
       "\n",
       "    .dataframe thead th {\n",
       "        text-align: right;\n",
       "    }\n",
       "</style>\n",
       "<table border=\"1\" class=\"dataframe\">\n",
       "  <thead>\n",
       "    <tr style=\"text-align: right;\">\n",
       "      <th></th>\n",
       "      <th>smiles</th>\n",
       "      <th>homolumogap</th>\n",
       "    </tr>\n",
       "    <tr>\n",
       "      <th>idx</th>\n",
       "      <th></th>\n",
       "      <th></th>\n",
       "    </tr>\n",
       "  </thead>\n",
       "  <tbody>\n",
       "    <tr>\n",
       "      <th>3378606</th>\n",
       "      <td>COc1ccccc1N[C@H](/C(=N\\C(=N)O)/O)C</td>\n",
       "      <td>4.587840</td>\n",
       "    </tr>\n",
       "    <tr>\n",
       "      <th>3378607</th>\n",
       "      <td>COc1ccccc1N[C@H](/C(=N\\C(=N)O)/O)C</td>\n",
       "      <td>4.971520</td>\n",
       "    </tr>\n",
       "    <tr>\n",
       "      <th>3378613</th>\n",
       "      <td>CC(/N=C(\\N/N=C/1\\C[C@H]2[C@@H]1CC=C2)/S)C</td>\n",
       "      <td>5.496700</td>\n",
       "    </tr>\n",
       "    <tr>\n",
       "      <th>3378614</th>\n",
       "      <td>CC(/N=C(\\N/N=C/1\\C[C@H]2[C@@H]1CC=C2)/S)C</td>\n",
       "      <td>5.485815</td>\n",
       "    </tr>\n",
       "    <tr>\n",
       "      <th>3378624</th>\n",
       "      <td>C/N=C(\\c1cc2c(s1)ccc(c2)F)/O</td>\n",
       "      <td>4.748387</td>\n",
       "    </tr>\n",
       "  </tbody>\n",
       "</table>\n",
       "</div>"
      ],
      "text/plain": [
       "                                            smiles  homolumogap\n",
       "idx                                                            \n",
       "3378606         COc1ccccc1N[C@H](/C(=N\\C(=N)O)/O)C     4.587840\n",
       "3378607         COc1ccccc1N[C@H](/C(=N\\C(=N)O)/O)C     4.971520\n",
       "3378613  CC(/N=C(\\N/N=C/1\\C[C@H]2[C@@H]1CC=C2)/S)C     5.496700\n",
       "3378614  CC(/N=C(\\N/N=C/1\\C[C@H]2[C@@H]1CC=C2)/S)C     5.485815\n",
       "3378624               C/N=C(\\c1cc2c(s1)ccc(c2)F)/O     4.748387"
      ]
     },
     "execution_count": 5,
     "metadata": {},
     "output_type": "execute_result"
    }
   ],
   "source": [
    "df_val = load_dataframe(\"valid.csv\", GS_DIR)\n",
    "\n",
    "print(\"df_val shape:\", df_val.shape)\n",
    "df_val.head()"
   ]
  },
  {
   "cell_type": "code",
   "execution_count": 6,
   "id": "82fe03a8-6f1f-4d6c-acef-38753dbe328f",
   "metadata": {},
   "outputs": [
    {
     "name": "stdout",
     "output_type": "stream",
     "text": [
      "<class 'pandas.core.frame.DataFrame'>\n",
      "Int64Index: 73545 entries, 3378606 to 3746612\n",
      "Data columns (total 2 columns):\n",
      " #   Column       Non-Null Count  Dtype  \n",
      "---  ------       --------------  -----  \n",
      " 0   smiles       73545 non-null  object \n",
      " 1   homolumogap  73545 non-null  float64\n",
      "dtypes: float64(1), object(1)\n",
      "memory usage: 1.7+ MB\n"
     ]
    }
   ],
   "source": [
    "df_val.info()"
   ]
  },
  {
   "cell_type": "markdown",
   "id": "8e01c51d-9ad7-47bb-adfd-9c0e0d59b178",
   "metadata": {},
   "source": [
    "#### Create baseline model"
   ]
  },
  {
   "cell_type": "code",
   "execution_count": 7,
   "id": "99746e24-8832-46be-b4cb-24d7b9b68e3f",
   "metadata": {},
   "outputs": [],
   "source": [
    "class BaselineModel:\n",
    "    def __init__(self, target: str=TARGET):\n",
    "        self.target = TARGET\n",
    "    \n",
    "    def train(self, dataframe: pd.DataFrame) -> None:\n",
    "        self.mean = dataframe[self.target].mean()\n",
    "        return None\n",
    "    \n",
    "    def predict(self, dataframe: pd.DataFrame) -> np.ndarray:\n",
    "        return np.repeat(self.mean, len(dataframe))"
   ]
  },
  {
   "cell_type": "code",
   "execution_count": 8,
   "id": "ec5fcd7b-fd7e-40f2-ace3-d8fe89263f65",
   "metadata": {},
   "outputs": [],
   "source": [
    "baseline_model = BaselineModel()"
   ]
  },
  {
   "cell_type": "markdown",
   "id": "9710ea83-6bc9-456f-ac93-4d4452d6f7c6",
   "metadata": {},
   "source": [
    "#### Train baseline model"
   ]
  },
  {
   "cell_type": "code",
   "execution_count": 9,
   "id": "dc64ec25-b76f-423d-976a-2f25652850f1",
   "metadata": {},
   "outputs": [],
   "source": [
    "baseline_model.train(df_train)"
   ]
  },
  {
   "cell_type": "markdown",
   "id": "8916c5f4-9317-4b31-9877-7103588fc40a",
   "metadata": {},
   "source": [
    "#### Get predictions for validation set"
   ]
  },
  {
   "cell_type": "code",
   "execution_count": 10,
   "id": "1d90bdf3-ab9e-49fc-a41e-8be6a292227d",
   "metadata": {},
   "outputs": [
    {
     "data": {
      "text/plain": [
       "array([5.68945901, 5.68945901, 5.68945901, ..., 5.68945901, 5.68945901,\n",
       "       5.68945901])"
      ]
     },
     "execution_count": 10,
     "metadata": {},
     "output_type": "execute_result"
    }
   ],
   "source": [
    "y_val_pred = baseline_model.predict(df_val)\n",
    "y_val_pred"
   ]
  },
  {
   "cell_type": "markdown",
   "id": "ee7667d4-51cd-423e-bd82-b1e8bd4dfa8c",
   "metadata": {},
   "source": [
    "#### Evaluate MAE metric for baseline model"
   ]
  },
  {
   "cell_type": "code",
   "execution_count": 11,
   "id": "5cd040a1-94cc-417f-889a-a565a9c65899",
   "metadata": {},
   "outputs": [
    {
     "data": {
      "text/plain": [
       "array([4.58783952, 4.97152005, 5.49669978, ..., 4.95519322, 8.17974235,\n",
       "       3.3143467 ])"
      ]
     },
     "execution_count": 11,
     "metadata": {},
     "output_type": "execute_result"
    }
   ],
   "source": [
    "y_val = df_val[TARGET].to_numpy()\n",
    "y_val"
   ]
  },
  {
   "cell_type": "code",
   "execution_count": 12,
   "id": "370347e9-4cf4-49e2-a495-a7068185d8d2",
   "metadata": {},
   "outputs": [
    {
     "name": "stdout",
     "output_type": "stream",
     "text": [
      "MAE for validation set with Baseline Model: 1.006081692517224\n"
     ]
    }
   ],
   "source": [
    "mae_result = mean_absolute_error(y_val, y_val_pred)\n",
    "\n",
    "print(\"MAE for validation set with Baseline Model:\", mae_result)"
   ]
  }
 ],
 "metadata": {
  "environment": {
   "kernel": "python3",
   "name": "tf2-gpu.2-8.m94",
   "type": "gcloud",
   "uri": "gcr.io/deeplearning-platform-release/tf2-gpu.2-8:m94"
  },
  "kernelspec": {
   "display_name": "Python 3",
   "language": "python",
   "name": "python3"
  },
  "language_info": {
   "codemirror_mode": {
    "name": "ipython",
    "version": 3
   },
   "file_extension": ".py",
   "mimetype": "text/x-python",
   "name": "python",
   "nbconvert_exporter": "python",
   "pygments_lexer": "ipython3",
   "version": "3.7.12"
  }
 },
 "nbformat": 4,
 "nbformat_minor": 5
}
