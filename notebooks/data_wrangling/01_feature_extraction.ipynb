{
 "cells": [
  {
   "cell_type": "markdown",
   "id": "02f46bba-89a9-4838-97e1-b47f09993057",
   "metadata": {},
   "source": [
    "#### Import required libs"
   ]
  },
  {
   "cell_type": "code",
   "execution_count": 1,
   "id": "6346545b-6552-4dfe-9598-07b42753597d",
   "metadata": {},
   "outputs": [],
   "source": [
    "import sys\n",
    "sys.path.append('/home/jupyter/app')\n",
    "\n",
    "import numpy as np\n",
    "import pandas as pd\n",
    "import swifter\n",
    "\n",
    "from tqdm.notebook import tqdm\n",
    "from rdkit.Chem import Descriptors, MolFromSmiles\n",
    "\n",
    "\n",
    "from src.io_utils import load_dataframe"
   ]
  },
  {
   "cell_type": "markdown",
   "id": "71c02260-f128-4861-880b-5f9eee5701c4",
   "metadata": {},
   "source": [
    "#### Define constants"
   ]
  },
  {
   "cell_type": "code",
   "execution_count": 2,
   "id": "a943ef3f-c062-47e7-95dd-8f6eae56a5f3",
   "metadata": {},
   "outputs": [],
   "source": [
    "GS_DIR_RAW = \"gs://pcqm4mv2/data/raw\"\n",
    "GS_DIR_FEATURES = \"gs://pcqm4mv2/data/features\"\n",
    "\n",
    "SMILES_COLUMN = \"smiles\""
   ]
  },
  {
   "cell_type": "markdown",
   "id": "588c1597-46eb-4183-9380-d4e95d87d1d2",
   "metadata": {},
   "source": [
    "#### Load train set"
   ]
  },
  {
   "cell_type": "code",
   "execution_count": 3,
   "id": "69b85bb3-f29e-4b92-b308-65cd2db18249",
   "metadata": {},
   "outputs": [
    {
     "name": "stdout",
     "output_type": "stream",
     "text": [
      "df_train shape: (3378606, 2)\n"
     ]
    },
    {
     "data": {
      "text/html": [
       "<div>\n",
       "<style scoped>\n",
       "    .dataframe tbody tr th:only-of-type {\n",
       "        vertical-align: middle;\n",
       "    }\n",
       "\n",
       "    .dataframe tbody tr th {\n",
       "        vertical-align: top;\n",
       "    }\n",
       "\n",
       "    .dataframe thead th {\n",
       "        text-align: right;\n",
       "    }\n",
       "</style>\n",
       "<table border=\"1\" class=\"dataframe\">\n",
       "  <thead>\n",
       "    <tr style=\"text-align: right;\">\n",
       "      <th></th>\n",
       "      <th>smiles</th>\n",
       "      <th>homolumogap</th>\n",
       "    </tr>\n",
       "    <tr>\n",
       "      <th>idx</th>\n",
       "      <th></th>\n",
       "      <th></th>\n",
       "    </tr>\n",
       "  </thead>\n",
       "  <tbody>\n",
       "    <tr>\n",
       "      <th>0</th>\n",
       "      <td>O=C1[N]c2ccncc2[CH][C@@H]1c1ccc(cc1)C</td>\n",
       "      <td>3.047675</td>\n",
       "    </tr>\n",
       "    <tr>\n",
       "      <th>1</th>\n",
       "      <td>COc1cc(OC)ccc1/C=C/N(C(=O)C)C</td>\n",
       "      <td>4.410966</td>\n",
       "    </tr>\n",
       "    <tr>\n",
       "      <th>2</th>\n",
       "      <td>C=CCN(C(=O)C)/C=C/c1ccccc1C</td>\n",
       "      <td>4.639541</td>\n",
       "    </tr>\n",
       "    <tr>\n",
       "      <th>3</th>\n",
       "      <td>C=CCN(C(=O)C)/C=C/c1ccccc1F</td>\n",
       "      <td>4.492600</td>\n",
       "    </tr>\n",
       "    <tr>\n",
       "      <th>4</th>\n",
       "      <td>C=CCN(C(=O)C)/C=C/c1ccccc1Cl</td>\n",
       "      <td>4.612330</td>\n",
       "    </tr>\n",
       "  </tbody>\n",
       "</table>\n",
       "</div>"
      ],
      "text/plain": [
       "                                    smiles  homolumogap\n",
       "idx                                                    \n",
       "0    O=C1[N]c2ccncc2[CH][C@@H]1c1ccc(cc1)C     3.047675\n",
       "1            COc1cc(OC)ccc1/C=C/N(C(=O)C)C     4.410966\n",
       "2              C=CCN(C(=O)C)/C=C/c1ccccc1C     4.639541\n",
       "3              C=CCN(C(=O)C)/C=C/c1ccccc1F     4.492600\n",
       "4             C=CCN(C(=O)C)/C=C/c1ccccc1Cl     4.612330"
      ]
     },
     "execution_count": 3,
     "metadata": {},
     "output_type": "execute_result"
    }
   ],
   "source": [
    "df_train = load_dataframe(\"train.csv\", GS_DIR_RAW)\n",
    "\n",
    "print(\"df_train shape:\", df_train.shape)\n",
    "df_train.head()"
   ]
  },
  {
   "cell_type": "code",
   "execution_count": 4,
   "id": "880ccf4c-1208-4cfd-84ae-c92163915e9d",
   "metadata": {},
   "outputs": [
    {
     "name": "stdout",
     "output_type": "stream",
     "text": [
      "<class 'pandas.core.frame.DataFrame'>\n",
      "Int64Index: 3378606 entries, 0 to 3378605\n",
      "Data columns (total 2 columns):\n",
      " #   Column       Dtype  \n",
      "---  ------       -----  \n",
      " 0   smiles       object \n",
      " 1   homolumogap  float64\n",
      "dtypes: float64(1), object(1)\n",
      "memory usage: 77.3+ MB\n"
     ]
    }
   ],
   "source": [
    "df_train.info()"
   ]
  },
  {
   "cell_type": "markdown",
   "id": "4fbbf2ff-27cc-4782-b6da-37effdcccde5",
   "metadata": {},
   "source": [
    "#### Load validation set"
   ]
  },
  {
   "cell_type": "code",
   "execution_count": 5,
   "id": "5df6a678-6488-41bc-a92c-855c70a983ce",
   "metadata": {},
   "outputs": [
    {
     "name": "stdout",
     "output_type": "stream",
     "text": [
      "df_val shape: (73545, 2)\n"
     ]
    },
    {
     "data": {
      "text/html": [
       "<div>\n",
       "<style scoped>\n",
       "    .dataframe tbody tr th:only-of-type {\n",
       "        vertical-align: middle;\n",
       "    }\n",
       "\n",
       "    .dataframe tbody tr th {\n",
       "        vertical-align: top;\n",
       "    }\n",
       "\n",
       "    .dataframe thead th {\n",
       "        text-align: right;\n",
       "    }\n",
       "</style>\n",
       "<table border=\"1\" class=\"dataframe\">\n",
       "  <thead>\n",
       "    <tr style=\"text-align: right;\">\n",
       "      <th></th>\n",
       "      <th>smiles</th>\n",
       "      <th>homolumogap</th>\n",
       "    </tr>\n",
       "    <tr>\n",
       "      <th>idx</th>\n",
       "      <th></th>\n",
       "      <th></th>\n",
       "    </tr>\n",
       "  </thead>\n",
       "  <tbody>\n",
       "    <tr>\n",
       "      <th>3378606</th>\n",
       "      <td>COc1ccccc1N[C@H](/C(=N\\C(=N)O)/O)C</td>\n",
       "      <td>4.587840</td>\n",
       "    </tr>\n",
       "    <tr>\n",
       "      <th>3378607</th>\n",
       "      <td>COc1ccccc1N[C@H](/C(=N\\C(=N)O)/O)C</td>\n",
       "      <td>4.971520</td>\n",
       "    </tr>\n",
       "    <tr>\n",
       "      <th>3378613</th>\n",
       "      <td>CC(/N=C(\\N/N=C/1\\C[C@H]2[C@@H]1CC=C2)/S)C</td>\n",
       "      <td>5.496700</td>\n",
       "    </tr>\n",
       "    <tr>\n",
       "      <th>3378614</th>\n",
       "      <td>CC(/N=C(\\N/N=C/1\\C[C@H]2[C@@H]1CC=C2)/S)C</td>\n",
       "      <td>5.485815</td>\n",
       "    </tr>\n",
       "    <tr>\n",
       "      <th>3378624</th>\n",
       "      <td>C/N=C(\\c1cc2c(s1)ccc(c2)F)/O</td>\n",
       "      <td>4.748387</td>\n",
       "    </tr>\n",
       "  </tbody>\n",
       "</table>\n",
       "</div>"
      ],
      "text/plain": [
       "                                            smiles  homolumogap\n",
       "idx                                                            \n",
       "3378606         COc1ccccc1N[C@H](/C(=N\\C(=N)O)/O)C     4.587840\n",
       "3378607         COc1ccccc1N[C@H](/C(=N\\C(=N)O)/O)C     4.971520\n",
       "3378613  CC(/N=C(\\N/N=C/1\\C[C@H]2[C@@H]1CC=C2)/S)C     5.496700\n",
       "3378614  CC(/N=C(\\N/N=C/1\\C[C@H]2[C@@H]1CC=C2)/S)C     5.485815\n",
       "3378624               C/N=C(\\c1cc2c(s1)ccc(c2)F)/O     4.748387"
      ]
     },
     "execution_count": 5,
     "metadata": {},
     "output_type": "execute_result"
    }
   ],
   "source": [
    "df_val = load_dataframe(\"valid.csv\", GS_DIR_RAW)\n",
    "\n",
    "print(\"df_val shape:\", df_val.shape)\n",
    "df_val.head()"
   ]
  },
  {
   "cell_type": "code",
   "execution_count": 6,
   "id": "de837b86-59bf-4a55-9599-009bb459a0af",
   "metadata": {},
   "outputs": [
    {
     "name": "stdout",
     "output_type": "stream",
     "text": [
      "<class 'pandas.core.frame.DataFrame'>\n",
      "Int64Index: 73545 entries, 3378606 to 3746612\n",
      "Data columns (total 2 columns):\n",
      " #   Column       Non-Null Count  Dtype  \n",
      "---  ------       --------------  -----  \n",
      " 0   smiles       73545 non-null  object \n",
      " 1   homolumogap  73545 non-null  float64\n",
      "dtypes: float64(1), object(1)\n",
      "memory usage: 1.7+ MB\n"
     ]
    }
   ],
   "source": [
    "df_val.info()"
   ]
  },
  {
   "cell_type": "markdown",
   "id": "25380613-163a-43e7-a709-36ba6a43a399",
   "metadata": {},
   "source": [
    "#### Visualizing molecules using RDKit"
   ]
  },
  {
   "cell_type": "code",
   "execution_count": 7,
   "id": "76616ac1-10d6-40e4-9cf5-923d9cd1019d",
   "metadata": {},
   "outputs": [
    {
     "data": {
      "image/png": "[encoded data removed]",
      "text/plain": [
       "<rdkit.Chem.rdchem.Mol at 0x7f4874be5e90>"
      ]
     },
     "execution_count": 7,
     "metadata": {},
     "output_type": "execute_result"
    }
   ],
   "source": [
    "MolFromSmiles(df_train.loc[0, SMILES_COLUMN])"
   ]
  },
  {
   "cell_type": "code",
   "execution_count": 8,
   "id": "20b424de-059d-4394-9b8e-0688003b7cbf",
   "metadata": {},
   "outputs": [
    {
     "data": {
      "image/png": "[encoded data removed]",
      "text/plain": [
       "<rdkit.Chem.rdchem.Mol at 0x7f4859a00da0>"
      ]
     },
     "execution_count": 8,
     "metadata": {},
     "output_type": "execute_result"
    }
   ],
   "source": [
    "MolFromSmiles(df_train.loc[1, SMILES_COLUMN])"
   ]
  },
  {
   "cell_type": "markdown",
   "id": "99fcc01a-f94a-4870-a095-d5f4a55df77c",
   "metadata": {},
   "source": [
    "#### Feature Engineering"
   ]
  },
  {
   "cell_type": "markdown",
   "id": "71c2c7e4-9892-4187-89bf-ea8a4ed41a7e",
   "metadata": {},
   "source": [
    "##### Create a customized RDKit descriptor"
   ]
  },
  {
   "cell_type": "code",
   "execution_count": 9,
   "id": "d4ffa0e2-0728-4674-a64e-44ba7d3904bf",
   "metadata": {},
   "outputs": [],
   "source": [
    "class NumberOfAtomsByAtomicNumber(Descriptors.PropertyFunctor):\n",
    "    def __init__(self, atomic_number):\n",
    "        Descriptors.PropertyFunctor.__init__(self, \"NumberOfAtomsByAtomicNumber\", \"1.0.0\")\n",
    "        self.atomic_number = atomic_number\n",
    "\n",
    "    def __call__(self, mol):\n",
    "        filtered_list = filter(lambda atom: atom.GetAtomicNum() == self.atomic_number, mol.GetAtoms())\n",
    "        return len(list(filtered_list))"
   ]
  },
  {
   "cell_type": "markdown",
   "id": "c6bdc505-63ca-4ede-997c-99bc3d6ef131",
   "metadata": {},
   "source": [
    "##### Instantiate the customized descriptor for each element"
   ]
  },
  {
   "cell_type": "code",
   "execution_count": 10,
   "id": "a069a6cb-7fb5-4fcb-aaea-dff649d7acd2",
   "metadata": {},
   "outputs": [],
   "source": [
    "number_of_B = NumberOfAtomsByAtomicNumber(atomic_number=5)\n",
    "number_of_C = NumberOfAtomsByAtomicNumber(atomic_number=6)\n",
    "number_of_N = NumberOfAtomsByAtomicNumber(atomic_number=7)\n",
    "number_of_O = NumberOfAtomsByAtomicNumber(atomic_number=8)\n",
    "number_of_F = NumberOfAtomsByAtomicNumber(atomic_number=9)\n",
    "number_of_Si = NumberOfAtomsByAtomicNumber(atomic_number=14)\n",
    "number_of_P = NumberOfAtomsByAtomicNumber(atomic_number=15)\n",
    "number_of_S = NumberOfAtomsByAtomicNumber(atomic_number=16)\n",
    "number_of_Cl = NumberOfAtomsByAtomicNumber(atomic_number=17)\n",
    "number_of_Br = NumberOfAtomsByAtomicNumber(atomic_number=35)"
   ]
  },
  {
   "cell_type": "markdown",
   "id": "a7faece4-9ab8-4eed-9c7c-d677b24a21be",
   "metadata": {},
   "source": [
    "#### Feature names"
   ]
  },
  {
   "cell_type": "code",
   "execution_count": 11,
   "id": "e510dcd4-6017-4571-9029-ae6970bd4a85",
   "metadata": {},
   "outputs": [],
   "source": [
    "feature_names = [\n",
    "    \"number_of_atoms\",\n",
    "    \"number_of_heavy_atoms\",\n",
    "    \"number_of_bonds\",\n",
    "    \"number_of_heavy_bonds\",\n",
    "    \"number_of_conformations\",\n",
    "    \"exact_mol_weight\",\n",
    "    \"average_mol_weight\",\n",
    "    \"heavy_mol_weight\",\n",
    "    \"number_of_radical_electrons\",\n",
    "    \"number_of_valence_electrons\",\n",
    "    \"fp_morgan_density_1\",\n",
    "    \"fp_morgan_density_2\",\n",
    "    \"fp_morgan_density_3\",\n",
    "    \"max_absolute_partial_charge\",\n",
    "    \"min_absolute_partial_charge\",\n",
    "    \"max_partial_charge\",\n",
    "    \"min_partial_charge\",\n",
    "    \"number_of_B_atoms\",\n",
    "    \"number_of_C_atoms\",\n",
    "    \"number_of_N_atoms\",\n",
    "    \"number_of_O_atoms\",\n",
    "    \"number_of_F_atoms\",\n",
    "    \"number_of_Si_atoms\",\n",
    "    \"number_of_P_atoms\",\n",
    "    \"number_of_S_atoms\",\n",
    "    \"number_of_Cl_atoms\",\n",
    "    \"number_of_Br_atoms\"\n",
    "]"
   ]
  },
  {
   "cell_type": "code",
   "execution_count": 12,
   "id": "26053ff3-8da4-4ef3-a678-f3e59c2a3ffe",
   "metadata": {},
   "outputs": [],
   "source": [
    "def extract_features(smiles):\n",
    "    molecule = MolFromSmiles(smiles)\n",
    "    \n",
    "    return [\n",
    "        molecule.GetNumAtoms(onlyExplicit=False),\n",
    "        molecule.GetNumHeavyAtoms(),\n",
    "        molecule.GetNumBonds(onlyHeavy=0),\n",
    "        molecule.GetNumBonds(onlyHeavy=1),\n",
    "        molecule.GetNumConformers(),\n",
    "        Descriptors.ExactMolWt(molecule),\n",
    "        Descriptors.MolWt(molecule),\n",
    "        Descriptors.HeavyAtomMolWt(molecule),\n",
    "        Descriptors.NumRadicalElectrons(molecule),\n",
    "        Descriptors.NumValenceElectrons(molecule),\n",
    "        Descriptors.FpDensityMorgan1(molecule),\n",
    "        Descriptors.FpDensityMorgan2(molecule),\n",
    "        Descriptors.FpDensityMorgan3(molecule),\n",
    "        Descriptors.MaxAbsPartialCharge(molecule),\n",
    "        Descriptors.MinAbsPartialCharge(molecule),\n",
    "        Descriptors.MaxPartialCharge(molecule),\n",
    "        Descriptors.MinPartialCharge(molecule),\n",
    "        number_of_B(molecule),\n",
    "        number_of_C(molecule),\n",
    "        number_of_N(molecule),\n",
    "        number_of_O(molecule),\n",
    "        number_of_F(molecule),\n",
    "        number_of_Si(molecule),\n",
    "        number_of_P(molecule),\n",
    "        number_of_S(molecule),\n",
    "        number_of_Cl(molecule),\n",
    "        number_of_Br(molecule)\n",
    "    ]"
   ]
  },
  {
   "cell_type": "code",
   "execution_count": 13,
   "id": "e29ef53b-ea06-4054-a59e-5c3f200072b9",
   "metadata": {},
   "outputs": [
    {
     "data": {
      "application/vnd.jupyter.widget-view+json": {
       "model_id": "9976268bf4c54534ab6d6446df0d2822",
       "version_major": 2,
       "version_minor": 0
      },
      "text/plain": [
       "Pandas Apply:   0%|          | 0/3378606 [00:00<?, ?it/s]"
      ]
     },
     "metadata": {},
     "output_type": "display_data"
    },
    {
     "name": "stderr",
     "output_type": "stream",
     "text": [
      "[22:12:29] WARNING: not removing hydrogen atom without neighbors\n",
      "[22:12:29] WARNING: not removing hydrogen atom without neighbors\n",
      "[22:12:29] WARNING: not removing hydrogen atom without neighbors\n",
      "[22:13:54] WARNING: not removing hydrogen atom without neighbors\n",
      "[22:13:54] WARNING: not removing hydrogen atom without neighbors\n",
      "[22:15:36] WARNING: not removing hydrogen atom without neighbors\n",
      "[22:15:36] WARNING: not removing hydrogen atom without neighbors\n",
      "[22:15:36] WARNING: not removing hydrogen atom without neighbors\n",
      "[22:15:56] Conflicting single bond directions around double bond at index 13.\n",
      "[22:15:56]   BondStereo set to STEREONONE and single bond directions set to NONE.\n",
      "[22:17:35] Conflicting single bond directions around double bond at index 11.\n",
      "[22:17:35]   BondStereo set to STEREONONE and single bond directions set to NONE.\n"
     ]
    },
    {
     "data": {
      "application/vnd.jupyter.widget-view+json": {
       "model_id": "1bf9355c89bc4d688e9fdae8c50d3272",
       "version_major": 2,
       "version_minor": 0
      },
      "text/plain": [
       "Pandas Apply:   0%|          | 0/73545 [00:00<?, ?it/s]"
      ]
     },
     "metadata": {},
     "output_type": "display_data"
    }
   ],
   "source": [
    "train_features = df_train[SMILES_COLUMN].swifter.apply(extract_features)\n",
    "val_features = df_val[SMILES_COLUMN].swifter.apply(extract_features)"
   ]
  },
  {
   "cell_type": "markdown",
   "id": "7cd15e40-bead-46bc-b9e7-24e2f7e5e6d7",
   "metadata": {},
   "source": [
    "#### Convert features to a dataframe"
   ]
  },
  {
   "cell_type": "code",
   "execution_count": 24,
   "id": "a17c137c-5de4-4960-baee-40d2e0ae9f4c",
   "metadata": {},
   "outputs": [],
   "source": [
    "df_train_features = pd.DataFrame(train_features.to_list(), columns=feature_names)\n",
    "df_train_features.index.name = \"idx\"\n",
    "df_train_features.index = df_train.index\n",
    "\n",
    "df_val_features = pd.DataFrame(val_features.to_list(), columns=feature_names)\n",
    "df_val_features.index.name = \"idx\"\n",
    "df_val_features.index = df_val.index"
   ]
  },
  {
   "cell_type": "markdown",
   "id": "79149b3d-ed62-49c2-a5f2-e98560a3c727",
   "metadata": {},
   "source": [
    "#### Concatenate features with original columns (homolumogap and smiles)"
   ]
  },
  {
   "cell_type": "code",
   "execution_count": 25,
   "id": "a1dff109-9502-43c5-8721-192182ac4468",
   "metadata": {},
   "outputs": [],
   "source": [
    "df_train_features = pd.concat([df_train, df_train_features], axis=1)\n",
    "df_val_features = pd.concat([df_val, df_val_features], axis=1)"
   ]
  },
  {
   "cell_type": "markdown",
   "id": "0dedbdee-65d1-485f-a18f-83de4f0189e4",
   "metadata": {},
   "source": [
    "#### Display dataframes with features"
   ]
  },
  {
   "cell_type": "code",
   "execution_count": 27,
   "id": "1d4464a5-20f0-4d4f-917c-ec543e6f626a",
   "metadata": {},
   "outputs": [
    {
     "name": "stdout",
     "output_type": "stream",
     "text": [
      "df_train_features shape: (3378606, 29)\n"
     ]
    },
    {
     "data": {
      "text/html": [
       "<div>\n",
       "<style scoped>\n",
       "    .dataframe tbody tr th:only-of-type {\n",
       "        vertical-align: middle;\n",
       "    }\n",
       "\n",
       "    .dataframe tbody tr th {\n",
       "        vertical-align: top;\n",
       "    }\n",
       "\n",
       "    .dataframe thead th {\n",
       "        text-align: right;\n",
       "    }\n",
       "</style>\n",
       "<table border=\"1\" class=\"dataframe\">\n",
       "  <thead>\n",
       "    <tr style=\"text-align: right;\">\n",
       "      <th></th>\n",
       "      <th>smiles</th>\n",
       "      <th>homolumogap</th>\n",
       "      <th>number_of_atoms</th>\n",
       "      <th>number_of_heavy_atoms</th>\n",
       "      <th>number_of_bonds</th>\n",
       "      <th>number_of_heavy_bonds</th>\n",
       "      <th>number_of_conformations</th>\n",
       "      <th>exact_mol_weight</th>\n",
       "      <th>average_mol_weight</th>\n",
       "      <th>heavy_mol_weight</th>\n",
       "      <th>...</th>\n",
       "      <th>number_of_B_atoms</th>\n",
       "      <th>number_of_C_atoms</th>\n",
       "      <th>number_of_N_atoms</th>\n",
       "      <th>number_of_O_atoms</th>\n",
       "      <th>number_of_F_atoms</th>\n",
       "      <th>number_of_Si_atoms</th>\n",
       "      <th>number_of_P_atoms</th>\n",
       "      <th>number_of_S_atoms</th>\n",
       "      <th>number_of_Cl_atoms</th>\n",
       "      <th>number_of_Br_atoms</th>\n",
       "    </tr>\n",
       "    <tr>\n",
       "      <th>idx</th>\n",
       "      <th></th>\n",
       "      <th></th>\n",
       "      <th></th>\n",
       "      <th></th>\n",
       "      <th></th>\n",
       "      <th></th>\n",
       "      <th></th>\n",
       "      <th></th>\n",
       "      <th></th>\n",
       "      <th></th>\n",
       "      <th></th>\n",
       "      <th></th>\n",
       "      <th></th>\n",
       "      <th></th>\n",
       "      <th></th>\n",
       "      <th></th>\n",
       "      <th></th>\n",
       "      <th></th>\n",
       "      <th></th>\n",
       "      <th></th>\n",
       "      <th></th>\n",
       "    </tr>\n",
       "  </thead>\n",
       "  <tbody>\n",
       "    <tr>\n",
       "      <th>0</th>\n",
       "      <td>O=C1[N]c2ccncc2[CH][C@@H]1c1ccc(cc1)C</td>\n",
       "      <td>3.047675</td>\n",
       "      <td>30</td>\n",
       "      <td>18</td>\n",
       "      <td>32</td>\n",
       "      <td>20</td>\n",
       "      <td>0</td>\n",
       "      <td>236.094963</td>\n",
       "      <td>236.274</td>\n",
       "      <td>224.178</td>\n",
       "      <td>...</td>\n",
       "      <td>0</td>\n",
       "      <td>15</td>\n",
       "      <td>2</td>\n",
       "      <td>1</td>\n",
       "      <td>0</td>\n",
       "      <td>0</td>\n",
       "      <td>0</td>\n",
       "      <td>0</td>\n",
       "      <td>0</td>\n",
       "      <td>0</td>\n",
       "    </tr>\n",
       "    <tr>\n",
       "      <th>1</th>\n",
       "      <td>COc1cc(OC)ccc1/C=C/N(C(=O)C)C</td>\n",
       "      <td>4.410966</td>\n",
       "      <td>34</td>\n",
       "      <td>17</td>\n",
       "      <td>34</td>\n",
       "      <td>17</td>\n",
       "      <td>0</td>\n",
       "      <td>235.120843</td>\n",
       "      <td>235.283</td>\n",
       "      <td>218.147</td>\n",
       "      <td>...</td>\n",
       "      <td>0</td>\n",
       "      <td>13</td>\n",
       "      <td>1</td>\n",
       "      <td>3</td>\n",
       "      <td>0</td>\n",
       "      <td>0</td>\n",
       "      <td>0</td>\n",
       "      <td>0</td>\n",
       "      <td>0</td>\n",
       "      <td>0</td>\n",
       "    </tr>\n",
       "    <tr>\n",
       "      <th>2</th>\n",
       "      <td>C=CCN(C(=O)C)/C=C/c1ccccc1C</td>\n",
       "      <td>4.639541</td>\n",
       "      <td>33</td>\n",
       "      <td>16</td>\n",
       "      <td>33</td>\n",
       "      <td>16</td>\n",
       "      <td>0</td>\n",
       "      <td>215.131014</td>\n",
       "      <td>215.296</td>\n",
       "      <td>198.160</td>\n",
       "      <td>...</td>\n",
       "      <td>0</td>\n",
       "      <td>14</td>\n",
       "      <td>1</td>\n",
       "      <td>1</td>\n",
       "      <td>0</td>\n",
       "      <td>0</td>\n",
       "      <td>0</td>\n",
       "      <td>0</td>\n",
       "      <td>0</td>\n",
       "      <td>0</td>\n",
       "    </tr>\n",
       "    <tr>\n",
       "      <th>3</th>\n",
       "      <td>C=CCN(C(=O)C)/C=C/c1ccccc1F</td>\n",
       "      <td>4.492600</td>\n",
       "      <td>30</td>\n",
       "      <td>16</td>\n",
       "      <td>30</td>\n",
       "      <td>16</td>\n",
       "      <td>0</td>\n",
       "      <td>219.105942</td>\n",
       "      <td>219.259</td>\n",
       "      <td>205.147</td>\n",
       "      <td>...</td>\n",
       "      <td>0</td>\n",
       "      <td>13</td>\n",
       "      <td>1</td>\n",
       "      <td>1</td>\n",
       "      <td>1</td>\n",
       "      <td>0</td>\n",
       "      <td>0</td>\n",
       "      <td>0</td>\n",
       "      <td>0</td>\n",
       "      <td>0</td>\n",
       "    </tr>\n",
       "    <tr>\n",
       "      <th>4</th>\n",
       "      <td>C=CCN(C(=O)C)/C=C/c1ccccc1Cl</td>\n",
       "      <td>4.612330</td>\n",
       "      <td>30</td>\n",
       "      <td>16</td>\n",
       "      <td>30</td>\n",
       "      <td>16</td>\n",
       "      <td>0</td>\n",
       "      <td>235.076392</td>\n",
       "      <td>235.714</td>\n",
       "      <td>221.602</td>\n",
       "      <td>...</td>\n",
       "      <td>0</td>\n",
       "      <td>13</td>\n",
       "      <td>1</td>\n",
       "      <td>1</td>\n",
       "      <td>0</td>\n",
       "      <td>0</td>\n",
       "      <td>0</td>\n",
       "      <td>0</td>\n",
       "      <td>1</td>\n",
       "      <td>0</td>\n",
       "    </tr>\n",
       "  </tbody>\n",
       "</table>\n",
       "<p>5 rows × 29 columns</p>\n",
       "</div>"
      ],
      "text/plain": [
       "                                    smiles  homolumogap  number_of_atoms  \\\n",
       "idx                                                                        \n",
       "0    O=C1[N]c2ccncc2[CH][C@@H]1c1ccc(cc1)C     3.047675               30   \n",
       "1            COc1cc(OC)ccc1/C=C/N(C(=O)C)C     4.410966               34   \n",
       "2              C=CCN(C(=O)C)/C=C/c1ccccc1C     4.639541               33   \n",
       "3              C=CCN(C(=O)C)/C=C/c1ccccc1F     4.492600               30   \n",
       "4             C=CCN(C(=O)C)/C=C/c1ccccc1Cl     4.612330               30   \n",
       "\n",
       "     number_of_heavy_atoms  number_of_bonds  number_of_heavy_bonds  \\\n",
       "idx                                                                  \n",
       "0                       18               32                     20   \n",
       "1                       17               34                     17   \n",
       "2                       16               33                     16   \n",
       "3                       16               30                     16   \n",
       "4                       16               30                     16   \n",
       "\n",
       "     number_of_conformations  exact_mol_weight  average_mol_weight  \\\n",
       "idx                                                                  \n",
       "0                          0        236.094963             236.274   \n",
       "1                          0        235.120843             235.283   \n",
       "2                          0        215.131014             215.296   \n",
       "3                          0        219.105942             219.259   \n",
       "4                          0        235.076392             235.714   \n",
       "\n",
       "     heavy_mol_weight  ...  number_of_B_atoms  number_of_C_atoms  \\\n",
       "idx                    ...                                         \n",
       "0             224.178  ...                  0                 15   \n",
       "1             218.147  ...                  0                 13   \n",
       "2             198.160  ...                  0                 14   \n",
       "3             205.147  ...                  0                 13   \n",
       "4             221.602  ...                  0                 13   \n",
       "\n",
       "     number_of_N_atoms  number_of_O_atoms  number_of_F_atoms  \\\n",
       "idx                                                            \n",
       "0                    2                  1                  0   \n",
       "1                    1                  3                  0   \n",
       "2                    1                  1                  0   \n",
       "3                    1                  1                  1   \n",
       "4                    1                  1                  0   \n",
       "\n",
       "     number_of_Si_atoms  number_of_P_atoms  number_of_S_atoms  \\\n",
       "idx                                                             \n",
       "0                     0                  0                  0   \n",
       "1                     0                  0                  0   \n",
       "2                     0                  0                  0   \n",
       "3                     0                  0                  0   \n",
       "4                     0                  0                  0   \n",
       "\n",
       "     number_of_Cl_atoms  number_of_Br_atoms  \n",
       "idx                                          \n",
       "0                     0                   0  \n",
       "1                     0                   0  \n",
       "2                     0                   0  \n",
       "3                     0                   0  \n",
       "4                     1                   0  \n",
       "\n",
       "[5 rows x 29 columns]"
      ]
     },
     "execution_count": 27,
     "metadata": {},
     "output_type": "execute_result"
    }
   ],
   "source": [
    "print(\"df_train_features shape:\", df_train_features.shape)\n",
    "df_train_features.head()"
   ]
  },
  {
   "cell_type": "code",
   "execution_count": 28,
   "id": "164e125b-7535-46c1-b9ee-bd04b1a32ae0",
   "metadata": {},
   "outputs": [
    {
     "name": "stdout",
     "output_type": "stream",
     "text": [
      "df_val_features shape: (73545, 29)\n"
     ]
    },
    {
     "data": {
      "text/html": [
       "<div>\n",
       "<style scoped>\n",
       "    .dataframe tbody tr th:only-of-type {\n",
       "        vertical-align: middle;\n",
       "    }\n",
       "\n",
       "    .dataframe tbody tr th {\n",
       "        vertical-align: top;\n",
       "    }\n",
       "\n",
       "    .dataframe thead th {\n",
       "        text-align: right;\n",
       "    }\n",
       "</style>\n",
       "<table border=\"1\" class=\"dataframe\">\n",
       "  <thead>\n",
       "    <tr style=\"text-align: right;\">\n",
       "      <th></th>\n",
       "      <th>smiles</th>\n",
       "      <th>homolumogap</th>\n",
       "      <th>number_of_atoms</th>\n",
       "      <th>number_of_heavy_atoms</th>\n",
       "      <th>number_of_bonds</th>\n",
       "      <th>number_of_heavy_bonds</th>\n",
       "      <th>number_of_conformations</th>\n",
       "      <th>exact_mol_weight</th>\n",
       "      <th>average_mol_weight</th>\n",
       "      <th>heavy_mol_weight</th>\n",
       "      <th>...</th>\n",
       "      <th>number_of_B_atoms</th>\n",
       "      <th>number_of_C_atoms</th>\n",
       "      <th>number_of_N_atoms</th>\n",
       "      <th>number_of_O_atoms</th>\n",
       "      <th>number_of_F_atoms</th>\n",
       "      <th>number_of_Si_atoms</th>\n",
       "      <th>number_of_P_atoms</th>\n",
       "      <th>number_of_S_atoms</th>\n",
       "      <th>number_of_Cl_atoms</th>\n",
       "      <th>number_of_Br_atoms</th>\n",
       "    </tr>\n",
       "    <tr>\n",
       "      <th>idx</th>\n",
       "      <th></th>\n",
       "      <th></th>\n",
       "      <th></th>\n",
       "      <th></th>\n",
       "      <th></th>\n",
       "      <th></th>\n",
       "      <th></th>\n",
       "      <th></th>\n",
       "      <th></th>\n",
       "      <th></th>\n",
       "      <th></th>\n",
       "      <th></th>\n",
       "      <th></th>\n",
       "      <th></th>\n",
       "      <th></th>\n",
       "      <th></th>\n",
       "      <th></th>\n",
       "      <th></th>\n",
       "      <th></th>\n",
       "      <th></th>\n",
       "      <th></th>\n",
       "    </tr>\n",
       "  </thead>\n",
       "  <tbody>\n",
       "    <tr>\n",
       "      <th>3378606</th>\n",
       "      <td>COc1ccccc1N[C@H](/C(=N\\C(=N)O)/O)C</td>\n",
       "      <td>4.587840</td>\n",
       "      <td>32</td>\n",
       "      <td>17</td>\n",
       "      <td>32</td>\n",
       "      <td>17</td>\n",
       "      <td>0</td>\n",
       "      <td>237.111341</td>\n",
       "      <td>237.259</td>\n",
       "      <td>222.139</td>\n",
       "      <td>...</td>\n",
       "      <td>0</td>\n",
       "      <td>11</td>\n",
       "      <td>3</td>\n",
       "      <td>3</td>\n",
       "      <td>0</td>\n",
       "      <td>0</td>\n",
       "      <td>0</td>\n",
       "      <td>0</td>\n",
       "      <td>0</td>\n",
       "      <td>0</td>\n",
       "    </tr>\n",
       "    <tr>\n",
       "      <th>3378607</th>\n",
       "      <td>COc1ccccc1N[C@H](/C(=N\\C(=N)O)/O)C</td>\n",
       "      <td>4.971520</td>\n",
       "      <td>32</td>\n",
       "      <td>17</td>\n",
       "      <td>32</td>\n",
       "      <td>17</td>\n",
       "      <td>0</td>\n",
       "      <td>237.111341</td>\n",
       "      <td>237.259</td>\n",
       "      <td>222.139</td>\n",
       "      <td>...</td>\n",
       "      <td>0</td>\n",
       "      <td>11</td>\n",
       "      <td>3</td>\n",
       "      <td>3</td>\n",
       "      <td>0</td>\n",
       "      <td>0</td>\n",
       "      <td>0</td>\n",
       "      <td>0</td>\n",
       "      <td>0</td>\n",
       "      <td>0</td>\n",
       "    </tr>\n",
       "    <tr>\n",
       "      <th>3378613</th>\n",
       "      <td>CC(/N=C(\\N/N=C/1\\C[C@H]2[C@@H]1CC=C2)/S)C</td>\n",
       "      <td>5.496700</td>\n",
       "      <td>32</td>\n",
       "      <td>15</td>\n",
       "      <td>33</td>\n",
       "      <td>16</td>\n",
       "      <td>0</td>\n",
       "      <td>223.114319</td>\n",
       "      <td>223.345</td>\n",
       "      <td>206.209</td>\n",
       "      <td>...</td>\n",
       "      <td>0</td>\n",
       "      <td>11</td>\n",
       "      <td>3</td>\n",
       "      <td>0</td>\n",
       "      <td>0</td>\n",
       "      <td>0</td>\n",
       "      <td>0</td>\n",
       "      <td>1</td>\n",
       "      <td>0</td>\n",
       "      <td>0</td>\n",
       "    </tr>\n",
       "    <tr>\n",
       "      <th>3378614</th>\n",
       "      <td>CC(/N=C(\\N/N=C/1\\C[C@H]2[C@@H]1CC=C2)/S)C</td>\n",
       "      <td>5.485815</td>\n",
       "      <td>32</td>\n",
       "      <td>15</td>\n",
       "      <td>33</td>\n",
       "      <td>16</td>\n",
       "      <td>0</td>\n",
       "      <td>223.114319</td>\n",
       "      <td>223.345</td>\n",
       "      <td>206.209</td>\n",
       "      <td>...</td>\n",
       "      <td>0</td>\n",
       "      <td>11</td>\n",
       "      <td>3</td>\n",
       "      <td>0</td>\n",
       "      <td>0</td>\n",
       "      <td>0</td>\n",
       "      <td>0</td>\n",
       "      <td>1</td>\n",
       "      <td>0</td>\n",
       "      <td>0</td>\n",
       "    </tr>\n",
       "    <tr>\n",
       "      <th>3378624</th>\n",
       "      <td>C/N=C(\\c1cc2c(s1)ccc(c2)F)/O</td>\n",
       "      <td>4.748387</td>\n",
       "      <td>22</td>\n",
       "      <td>14</td>\n",
       "      <td>23</td>\n",
       "      <td>15</td>\n",
       "      <td>0</td>\n",
       "      <td>209.031063</td>\n",
       "      <td>209.245</td>\n",
       "      <td>201.181</td>\n",
       "      <td>...</td>\n",
       "      <td>0</td>\n",
       "      <td>10</td>\n",
       "      <td>1</td>\n",
       "      <td>1</td>\n",
       "      <td>1</td>\n",
       "      <td>0</td>\n",
       "      <td>0</td>\n",
       "      <td>1</td>\n",
       "      <td>0</td>\n",
       "      <td>0</td>\n",
       "    </tr>\n",
       "  </tbody>\n",
       "</table>\n",
       "<p>5 rows × 29 columns</p>\n",
       "</div>"
      ],
      "text/plain": [
       "                                            smiles  homolumogap  \\\n",
       "idx                                                               \n",
       "3378606         COc1ccccc1N[C@H](/C(=N\\C(=N)O)/O)C     4.587840   \n",
       "3378607         COc1ccccc1N[C@H](/C(=N\\C(=N)O)/O)C     4.971520   \n",
       "3378613  CC(/N=C(\\N/N=C/1\\C[C@H]2[C@@H]1CC=C2)/S)C     5.496700   \n",
       "3378614  CC(/N=C(\\N/N=C/1\\C[C@H]2[C@@H]1CC=C2)/S)C     5.485815   \n",
       "3378624               C/N=C(\\c1cc2c(s1)ccc(c2)F)/O     4.748387   \n",
       "\n",
       "         number_of_atoms  number_of_heavy_atoms  number_of_bonds  \\\n",
       "idx                                                                \n",
       "3378606               32                     17               32   \n",
       "3378607               32                     17               32   \n",
       "3378613               32                     15               33   \n",
       "3378614               32                     15               33   \n",
       "3378624               22                     14               23   \n",
       "\n",
       "         number_of_heavy_bonds  number_of_conformations  exact_mol_weight  \\\n",
       "idx                                                                         \n",
       "3378606                     17                        0        237.111341   \n",
       "3378607                     17                        0        237.111341   \n",
       "3378613                     16                        0        223.114319   \n",
       "3378614                     16                        0        223.114319   \n",
       "3378624                     15                        0        209.031063   \n",
       "\n",
       "         average_mol_weight  heavy_mol_weight  ...  number_of_B_atoms  \\\n",
       "idx                                            ...                      \n",
       "3378606             237.259           222.139  ...                  0   \n",
       "3378607             237.259           222.139  ...                  0   \n",
       "3378613             223.345           206.209  ...                  0   \n",
       "3378614             223.345           206.209  ...                  0   \n",
       "3378624             209.245           201.181  ...                  0   \n",
       "\n",
       "         number_of_C_atoms  number_of_N_atoms  number_of_O_atoms  \\\n",
       "idx                                                                \n",
       "3378606                 11                  3                  3   \n",
       "3378607                 11                  3                  3   \n",
       "3378613                 11                  3                  0   \n",
       "3378614                 11                  3                  0   \n",
       "3378624                 10                  1                  1   \n",
       "\n",
       "         number_of_F_atoms  number_of_Si_atoms  number_of_P_atoms  \\\n",
       "idx                                                                 \n",
       "3378606                  0                   0                  0   \n",
       "3378607                  0                   0                  0   \n",
       "3378613                  0                   0                  0   \n",
       "3378614                  0                   0                  0   \n",
       "3378624                  1                   0                  0   \n",
       "\n",
       "         number_of_S_atoms  number_of_Cl_atoms  number_of_Br_atoms  \n",
       "idx                                                                 \n",
       "3378606                  0                   0                   0  \n",
       "3378607                  0                   0                   0  \n",
       "3378613                  1                   0                   0  \n",
       "3378614                  1                   0                   0  \n",
       "3378624                  1                   0                   0  \n",
       "\n",
       "[5 rows x 29 columns]"
      ]
     },
     "execution_count": 28,
     "metadata": {},
     "output_type": "execute_result"
    }
   ],
   "source": [
    "print(\"df_val_features shape:\", df_val_features.shape)\n",
    "df_val_features.head()"
   ]
  },
  {
   "cell_type": "markdown",
   "id": "eb21b103-93f8-43d6-b774-3f955a98e001",
   "metadata": {},
   "source": [
    "#### Save datasets locally and to GCS"
   ]
  },
  {
   "cell_type": "code",
   "execution_count": 29,
   "id": "12d1c59f-000e-4838-9daa-1e590252f579",
   "metadata": {},
   "outputs": [],
   "source": [
    "df_train_features.to_csv(\"../../data/train_features.csv\", index=False)\n",
    "df_train_features.to_csv(f\"{GS_DIR_FEATURES}/train.csv\", index=False)\n",
    "\n",
    "df_val_features.to_csv(\"../../data/valid_features.csv\", index=False)\n",
    "df_val_features.to_csv(f\"{GS_DIR_FEATURES}/valid.csv\", index=False)"
   ]
  }
 ],
 "metadata": {
  "environment": {
   "kernel": "python3",
   "name": "tf2-gpu.2-8.m94",
   "type": "gcloud",
   "uri": "gcr.io/deeplearning-platform-release/tf2-gpu.2-8:m94"
  },
  "kernelspec": {
   "display_name": "Python 3",
   "language": "python",
   "name": "python3"
  },
  "language_info": {
   "codemirror_mode": {
    "name": "ipython",
    "version": 3
   },
   "file_extension": ".py",
   "mimetype": "text/x-python",
   "name": "python",
   "nbconvert_exporter": "python",
   "pygments_lexer": "ipython3",
   "version": "3.7.12"
  }
 },
 "nbformat": 4,
 "nbformat_minor": 5
}
